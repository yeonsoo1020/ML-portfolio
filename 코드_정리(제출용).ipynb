{
  "nbformat": 4,
  "nbformat_minor": 0,
  "metadata": {
    "colab": {
      "provenance": [],
      "include_colab_link": true
    },
    "kernelspec": {
      "name": "python3",
      "display_name": "Python 3"
    },
    "language_info": {
      "name": "python"
    }
  },
  "cells": [
    {
      "cell_type": "markdown",
      "metadata": {
        "id": "view-in-github",
        "colab_type": "text"
      },
      "source": [
        "<a href=\"https://colab.research.google.com/github/yeonsoo1020/ML-portfolio/blob/main/%EC%BD%94%EB%93%9C_%EC%A0%95%EB%A6%AC(%EC%A0%9C%EC%B6%9C%EC%9A%A9).ipynb\" target=\"_parent\"><img src=\"https://colab.research.google.com/assets/colab-badge.svg\" alt=\"Open In Colab\"/></a>"
      ]
    },
    {
      "cell_type": "code",
      "execution_count": null,
      "metadata": {
        "id": "pNXcTvmSF2H8"
      },
      "outputs": [],
      "source": [
        "import pandas as pd\n",
        "import numpy as np\n",
        "import matplotlib.pyplot as plt\n",
        "import seaborn as sns\n",
        "import datetime as dt\n",
        "\n",
        "import warnings\n",
        "warnings.filterwarnings(action='ignore')"
      ]
    },
    {
      "cell_type": "code",
      "source": [
        "from google.colab import drive\n",
        "drive.mount('/content/drive')"
      ],
      "metadata": {
        "id": "9GsMkCMbrsjt",
        "outputId": "4af27084-7915-4d36-b3b8-cfe81757838c",
        "colab": {
          "base_uri": "https://localhost:8080/"
        }
      },
      "execution_count": null,
      "outputs": [
        {
          "output_type": "stream",
          "name": "stdout",
          "text": [
            "Mounted at /content/drive\n"
          ]
        }
      ]
    },
    {
      "cell_type": "code",
      "source": [
        "SEED = 42\n",
        "np.random.seed(SEED)"
      ],
      "metadata": {
        "id": "3dweagY-vQ7L"
      },
      "execution_count": null,
      "outputs": []
    },
    {
      "cell_type": "markdown",
      "source": [
        "# 시간"
      ],
      "metadata": {
        "id": "ZWjIxUEkG68Q"
      }
    },
    {
      "cell_type": "code",
      "source": [
        "df['날짜'] = df['날짜'].apply(lambda x: pd.to_datetime(str(x), format='%Y-%m-%d'))"
      ],
      "metadata": {
        "id": "0uIkfig6GGxM"
      },
      "execution_count": null,
      "outputs": []
    },
    {
      "cell_type": "code",
      "source": [
        "date = df['날짜']\n",
        "df['hour']=date.dt.hour\n",
        "df['weekday']=date.dt.weekday\n",
        "df['day'] = date.dt.day\n",
        "df['month'] = date.dt.month\n",
        "df['year']=date.dt.year\n",
        "df['date']=date.dt.strftime('%Y%m%d').astype(int)\n",
        "df['sin_hour']=np.sin(2*np.pi*df.hour/24)\n",
        "df['cos_hour']=np.cos(2*np.pi*df.hour/24)"
      ],
      "metadata": {
        "id": "PTtZULQDGG0n"
      },
      "execution_count": null,
      "outputs": []
    },
    {
      "cell_type": "code",
      "source": [
        "# weekday 5, 6은 주말, 주말이면 1 아니면 0\n",
        "df['weekend'] = df.apply(lambda x : 0 if x['weekday']<5 else 1, axis = 1)"
      ],
      "metadata": {
        "id": "BPwhMVWdGXp0"
      },
      "execution_count": null,
      "outputs": []
    },
    {
      "cell_type": "code",
      "source": [
        "# 평일공휴일\n",
        "holiday=[20210101,20210211,20210212,20210301,20210505,20210519,\n",
        "         20210816,20210920,20210921,20210922,20211004,20211011,\n",
        "         20220131,20220201,20220202,20220301,20220309,20220505,\n",
        "         20220601,20220606,20220815,20220909,20220912,20221003,20221010]\n",
        "df['holiday'] = df['date'].apply(lambda x: 1 if x in holiday else 0)"
      ],
      "metadata": {
        "id": "TnTpsGnIGXvy"
      },
      "execution_count": null,
      "outputs": []
    },
    {
      "cell_type": "markdown",
      "source": [
        "# weather(온도, 풍속, 습도)"
      ],
      "metadata": {
        "id": "SVNjWWsCLD2q"
      }
    },
    {
      "cell_type": "code",
      "source": [
        "gosan1 = pd.read_csv('/content/drive/MyDrive/산업통상자원부 공모전/고산2021.csv의 사본')\n",
        "gosan2 = pd.read_csv('/content/drive/MyDrive/산업통상자원부 공모전/고산2022.csv의 사본')\n",
        "seo1 = pd.read_csv('/content/drive/MyDrive/산업통상자원부 공모전/서귀포2021.csv의 사본')\n",
        "seo2 = pd.read_csv('/content/drive/MyDrive/산업통상자원부 공모전/서귀포2022.csv의 사본')\n",
        "jeju1 = pd.read_csv('/content/drive/MyDrive/산업통상자원부 공모전/제주2021.csv의 사본')\n",
        "jeju2 = pd.read_csv('/content/drive/MyDrive/산업통상자원부 공모전/제주2022.csv의 사본',encoding='cp949')\n",
        "sung1 = pd.read_csv('/content/drive/MyDrive/산업통상자원부 공모전/성산2021.csv의 사본')\n",
        "sung2 = pd.read_csv('/content/drive/MyDrive/산업통상자원부 공모전/성산2022.csv의 사본')"
      ],
      "metadata": {
        "id": "EuTciHYlLC2q"
      },
      "execution_count": null,
      "outputs": []
    },
    {
      "cell_type": "code",
      "source": [
        "gosan = pd.concat([gosan1, gosan2], axis=0)\n",
        "seo = pd.concat([seo1, seo2], axis=0)\n",
        "jeju = pd.concat([jeju1, jeju2], axis=0)\n",
        "sung = pd.concat([sung1, sung2], axis=0)"
      ],
      "metadata": {
        "id": "IlUvBRKDLDJu"
      },
      "execution_count": null,
      "outputs": []
    },
    {
      "cell_type": "code",
      "source": [
        "# 누락되어 있는 각 연도(2022/2023)의 1월1일0시 자료 추가 - 4개 지역에 동일하게 적용\n",
        "\n",
        "new = {'지점': 184,\n",
        "        '지점명': '제주',\n",
        "        '일시' : '2023-01-01 00:00:00',\n",
        "       '기온(°C)' : 5.5,\n",
        "       '풍속(m/s)' : 2.8,\n",
        "       '습도(%)' : 64\n",
        "       }\n",
        "new2 =  {'지점': 184,\n",
        "        '지점명': '제주',\n",
        "        '일시' : '2022-01-01 00:00:00',\n",
        "       '기온(°C)' : 3.6,\n",
        "       '풍속(m/s)' : 3.9,\n",
        "       '습도(%)' : 67\n",
        "       }\n",
        "jeju = jeju.append(new, ignore_index=True)\n",
        "jeju = jeju.append(new2, ignore_index=True)\n",
        "\n",
        "new = {'지점': 188,\n",
        "        '지점명': '성산',\n",
        "        '일시' : '2023-01-01 00:00:00',\n",
        "       '기온(°C)' : 0.5,\n",
        "       '풍속(m/s)' : 1.3,\n",
        "       '습도(%)' : 82\n",
        "       }\n",
        "new2 =  {'지점': 188,\n",
        "        '지점명': '성산',\n",
        "        '일시' : '2022-01-01 00:00:00',\n",
        "       '기온(°C)' : 1.8,\n",
        "       '풍속(m/s)' : 1.4,\n",
        "       '습도(%)' : 63\n",
        "       }\n",
        "sung = sung.append(new, ignore_index=True)\n",
        "sung = sung.append(new2, ignore_index=True)\n",
        "\n",
        "new = {'지점': 189,\n",
        "        '지점명': '서귀포',\n",
        "        '일시' : '2023-01-01 00:00:00',\n",
        "       '기온(°C)' : 4.8,\n",
        "       '풍속(m/s)' : 1.4,\n",
        "       '습도(%)' : 70\n",
        "       }\n",
        "new2 =  {'지점': 189,\n",
        "        '지점명': '서귀포',\n",
        "        '일시' : '2022-01-01 00:00:00',\n",
        "       '기온(°C)' : 4.8,\n",
        "       '풍속(m/s)' : 1.1,\n",
        "       '습도(%)' : 75\n",
        "       }\n",
        "seo = seo.append(new, ignore_index=True)\n",
        "seo = seo.append(new2, ignore_index=True)\n",
        "\n",
        "new = {'지점': 185,\n",
        "        '지점명': '고산',\n",
        "        '일시' : '2023-01-01 00:00:00',\n",
        "       '기온(°C)' : 7.2,\n",
        "       '풍속(m/s)' : 8.1,\n",
        "       '습도(%)' : 61\n",
        "       }\n",
        "new2 =  {'지점': 185,\n",
        "        '지점명': '고산',\n",
        "        '일시' : '2022-01-01 00:00:00',\n",
        "       '기온(°C)' : 4.1,\n",
        "       '풍속(m/s)' : 7.0,\n",
        "       '습도(%)' : 71\n",
        "       }\n",
        "gosan = gosan.append(new, ignore_index=True)\n",
        "gosan = gosan.append(new2, ignore_index=True)"
      ],
      "metadata": {
        "id": "uzUCh56uLDNN"
      },
      "execution_count": null,
      "outputs": []
    },
    {
      "cell_type": "code",
      "source": [
        "seo['일시'] = pd.to_datetime(seo['일시'])\n",
        "jeju['일시'] = pd.to_datetime(jeju['일시'])\n",
        "sung['일시'] = pd.to_datetime(sung['일시'])\n",
        "gosan['일시'] = pd.to_datetime(gosan['일시'])"
      ],
      "metadata": {
        "id": "V3q0UMuhbiwJ"
      },
      "execution_count": null,
      "outputs": []
    },
    {
      "cell_type": "code",
      "source": [
        "df1 = pd.merge(seo, jeju, on='일시', how='inner')\n",
        "df2 = pd.merge(df1, sung, on='일시', how='inner')\n",
        "df = pd.merge(df2, gosan, on='일시', how='inner')"
      ],
      "metadata": {
        "id": "lBiEcEEWbxu-"
      },
      "execution_count": null,
      "outputs": []
    },
    {
      "cell_type": "code",
      "source": [
        "# 컬럼명 수정\n",
        "df.columns = ['a','b','일시','기온1','풍속1','습도1','c','d','기온2','풍속2','습도2','e','f','기온3','풍속3','습도3','g','h','기온4','풍속4','습도4']\n",
        "df=df.loc[:,['일시', '기온1', '풍속1', '습도1','기온2', '풍속2', '습도2', '기온3', '풍속3', '습도3','기온4', '풍속4', '습도4']]"
      ],
      "metadata": {
        "id": "Vy8NHTg9b5v-"
      },
      "execution_count": null,
      "outputs": []
    },
    {
      "cell_type": "code",
      "source": [
        "# 평균기온 계산\n",
        "for i in range(len(df)):\n",
        "  df['온도'][i] = (df['기온1'][i] + df['기온2'][i] + df['기온3'][i] + df['기온4'][i]) / 4\n",
        "  df['풍속'][i] = (df['풍속1'][i] + df['풍속2'][i] + df['풍속3'][i] + df['풍속4'][i]) / 4\n",
        "  df['습도'][i] = (df['습도1'][i] + df['습도2'][i] + df['습도3'][i] + df['습도4'][i]) / 4"
      ],
      "metadata": {
        "id": "wauq3EIDcHJ_"
      },
      "execution_count": null,
      "outputs": []
    },
    {
      "cell_type": "code",
      "source": [
        "final = df.loc[:,['일시','온도','풍속','습도']]\n",
        "final_df = final.sort_values('일시', ascending=True) # 일자 기준으로 내림차순 정렬\n",
        "\n",
        "final_df = final_df.reset_index(drop=True)\n",
        "final_df.to_csv('weather.csv') # weather 데이터셋 생성 완료"
      ],
      "metadata": {
        "id": "d1uf3HG0cLus"
      },
      "execution_count": null,
      "outputs": []
    },
    {
      "cell_type": "markdown",
      "source": [
        "# 불쾌지수, 체감온도"
      ],
      "metadata": {
        "id": "c-gIcSunLknV"
      }
    },
    {
      "cell_type": "code",
      "source": [
        "df=pd.read_csv('/content/drive/MyDrive/Colab Notebooks/산업통상자원부/weather.csv')"
      ],
      "metadata": {
        "id": "MK8N09hALnMY"
      },
      "execution_count": null,
      "outputs": []
    },
    {
      "cell_type": "code",
      "source": [
        "df['불쾌지수']=9/5*df['기온'] - 0.55*(1-df['습도']/100)*(9/5*df['기온']-26)+32"
      ],
      "metadata": {
        "id": "WVEWJ2IMLnO5"
      },
      "execution_count": null,
      "outputs": []
    },
    {
      "cell_type": "code",
      "source": [
        "df['체감온도']=13.12+0.6215*df['기온']-11.37*(df['풍속']**0.16)+0.3965*(df['풍속']**0.16)*df['기온']"
      ],
      "metadata": {
        "id": "QucP4kbcLnWy"
      },
      "execution_count": null,
      "outputs": []
    },
    {
      "cell_type": "code",
      "source": [
        "df.to_csv('/content/drive/MyDrive/Colab Notebooks/산업통상자원부/weather_new.csv', index=False, encoding='cp949')"
      ],
      "metadata": {
        "id": "ljiMuAMoLnaK"
      },
      "execution_count": null,
      "outputs": []
    },
    {
      "cell_type": "markdown",
      "source": [
        "# 거리두기"
      ],
      "metadata": {
        "id": "eQ98nr-Xgw1o"
      }
    },
    {
      "cell_type": "code",
      "source": [
        "import pandas as pd\n",
        "df= pd.read_csv('/content/drive/MyDrive/산업통상자원부 공모전/new.csv', encoding='cp949')"
      ],
      "metadata": {
        "id": "_BTmlArmhbDW"
      },
      "execution_count": null,
      "outputs": []
    },
    {
      "cell_type": "code",
      "source": [
        "df['거리두기'] = '' # 거리두기 컬럼 생성"
      ],
      "metadata": {
        "id": "0oQ5aCrriCdj"
      },
      "execution_count": null,
      "outputs": []
    },
    {
      "cell_type": "code",
      "source": [
        "# 과거 중대본에서 공식적으로 정한 기간별 사회적 거리두기 단계 반영\n",
        "# 1-4단계 체제의 사회적 거리두기 -> 위드 코로나 체제에서의 완화된 거리두기 -> 사회적 거리두기 완전 해제\n",
        "\n",
        "for i in range(len(df)):\n",
        "  if pd.to_datetime('2021-01-01 00:00') <= pd.to_datetime(df['일시'][i]) <= pd.to_datetime('2021-02-14 23:59'):\n",
        "    df['거리두기'][i] = 2\n",
        "  elif pd.to_datetime('2021-02-15 00:00') <= pd.to_datetime(df['일시'][i]) <= pd.to_datetime('2021-07-13 23:59'):\n",
        "    df['거리두기'][i]=1.5\n",
        "  elif pd.to_datetime('2021-07-14 00:00') <= pd.to_datetime(df['일시'][i]) <= pd.to_datetime('2021-07-18 23:59'):\n",
        "    df['거리두기'][i] = 2\n",
        "  elif pd.to_datetime('2021-07-19 00:00') <= pd.to_datetime(df['일시'][i]) <= pd.to_datetime('2021-08-17 23:59'):\n",
        "    df['거리두기'][i] = 3\n",
        "  elif pd.to_datetime('2021-08-18 00:00') <= pd.to_datetime(df['일시'][i]) <= pd.to_datetime('2021-09-22 23:59'):\n",
        "    df['거리두기'][i] = 4\n",
        "  elif pd.to_datetime('2021-09-23 00:00') <= pd.to_datetime(df['일시'][i]) <= pd.to_datetime('2021-10-31 23:59'):\n",
        "    df['거리두기'][i] = 3\n",
        "  elif pd.to_datetime('2021-11-01 00:00') <= pd.to_datetime(df['일시'][i]) <= pd.to_datetime('2021-12-17 23:59'):\n",
        "    df['거리두기'][i] = '위드'\n",
        "  elif pd.to_datetime('2021-12-18 00:00') <= pd.to_datetime(df['일시'][i]) <= pd.to_datetime('2022-02-20 23:59'):\n",
        "    df['거리두기'][i] = '위드 강화1'\n",
        "  elif pd.to_datetime('2022-02-21 00:00') <= pd.to_datetime(df['일시'][i]) <= pd.to_datetime('2022-03-20 23:59'):\n",
        "    df['거리두기'][i] = '위드 완화1'\n",
        "  elif pd.to_datetime('2022-03-21 00:00') <= pd.to_datetime(df['일시'][i]) <= pd.to_datetime('2022-04-03 23:59'):\n",
        "    df['거리두기'][i] = '위드 완화2'\n",
        "  elif pd.to_datetime('2022-04-04 00:00') <= pd.to_datetime(df['일시'][i]) <= pd.to_datetime('2022-04-17 23:59'):\n",
        "    df['거리두기'][i] = '위드 완화3'\n",
        "  elif pd.to_datetime('2022-04-18 00:00') <= pd.to_datetime(df['일시'][i]):\n",
        "    df['거리두기'][i] = '해제'"
      ],
      "metadata": {
        "id": "_w25iWUDiFuy"
      },
      "execution_count": null,
      "outputs": []
    },
    {
      "cell_type": "code",
      "source": [
        "df.to_csv('s_distancing_final3.csv',encoding='cp949', index=False)"
      ],
      "metadata": {
        "id": "9ZrG8C4rif61"
      },
      "execution_count": null,
      "outputs": []
    },
    {
      "cell_type": "markdown",
      "source": [
        "# 하루전 발전계획용 수요예측"
      ],
      "metadata": {
        "id": "D6b2LC-bxh-3"
      }
    },
    {
      "cell_type": "code",
      "source": [
        "df21=pd.read_csv('/content/drive/MyDrive/산업통상자원부 공모전/bidforecastgen_land_2021.csv', encoding='cp949')\n",
        "\n",
        "df22=pd.read_csv('/content/drive/MyDrive/산업통상자원부 공모전/bidforecastgen_land_2022.csv', encoding='cp949')\n",
        "\n",
        "df = pd.concat([df21, df22])\n",
        "\n",
        "df['year'] = df['date'] // 10000\n",
        "df['month'] = (df['date'] // 100) % 100\n",
        "df['day'] = df['date'] % 100\n",
        "\n",
        "df\n",
        "\n",
        "df1 = pd.concat([df] * 24, ignore_index=True)\n",
        "\n",
        "df1['hour']=''\n",
        "\n",
        "values = list(range(1, 25)) * 730\n",
        "\n",
        "df1['hour'] = values\n",
        "df1\n",
        "\n",
        "df1=df1.sort_values(by=['date','hour'])\n",
        "df1\n",
        "\n",
        "df1['hour'] = values\n",
        "df1\n",
        "\n",
        "df2=df1\n",
        "df2['prediction'] = ''\n",
        "for i in range(0,17497,24):\n",
        "  target = df2.iloc[i, 1:25]\n",
        "  df2['prediction'][i:i+24]=target\n",
        "\n",
        "df2=df2.drop(columns=['date','1','2','3','4','5','6','7','8','9','10','11','12','13','14','15','16','17','18','19','20','21','22','23','24'])\n",
        "df2\n",
        "\n",
        "# df2.to_csv('/content/drive/MyDrive/산업통상자원부 공모전/prediction_set.csv', index=False)\n",
        "\n",
        "merged_df = pd.merge(train, df2, on=['year', 'month', 'day', 'hour'])"
      ],
      "metadata": {
        "id": "ZzSNSvyJxsd8"
      },
      "execution_count": null,
      "outputs": []
    },
    {
      "cell_type": "code",
      "source": [
        "train=merged_df.copy()\n",
        "train['client_mean']=train.groupby('client_num')['target'].transform('mean')"
      ],
      "metadata": {
        "id": "QBSPIKhkPlRi"
      },
      "execution_count": null,
      "outputs": []
    },
    {
      "cell_type": "code",
      "source": [
        "def con(a):\n",
        "    try:\n",
        "\n",
        "        a=a.replace(',','')\n",
        "        return int(a)\n",
        "    except ValueError:\n",
        "        return a\n",
        "\n",
        "\n",
        "test['prediction'] = test['prediction'].apply(con)\n",
        "test\n",
        "df['prediction']=df['prediction'].apply(con)\n",
        "\n",
        "stan=train.loc[:,'prediction']\n",
        "stan=pd.DataFrame(stan)\n",
        "stan\n",
        "stan=stan.values\n",
        "stan\n",
        "from sklearn.preprocessing import StandardScaler\n",
        "scaler=StandardScaler()\n",
        "scaler.fit(stan)\n",
        "scaled=scaler.transform(stan)\n",
        "\n",
        "scaled\n",
        "lst = [value[0] for value in scaled]\n",
        "train['standard_prediction']=lst"
      ],
      "metadata": {
        "id": "zz13aaaDPmIP"
      },
      "execution_count": null,
      "outputs": []
    },
    {
      "cell_type": "markdown",
      "source": [
        "# 시각화"
      ],
      "metadata": {
        "id": "iSBOuybNKm34"
      }
    },
    {
      "cell_type": "code",
      "source": [
        "df=train.copy()\n",
        "df['date']=pd.to_datetime(df['year']*10000+df['month']*100+df['day'],format=\"%Y%m%d\")\n",
        "df['weekofyear']=df['date'].dt.weekofyear\n",
        "df['dayofyear']=df['date'].dt.dayofyear"
      ],
      "metadata": {
        "id": "wGRYOFk6Ko_k"
      },
      "execution_count": null,
      "outputs": []
    },
    {
      "cell_type": "code",
      "source": [
        "# 전력사용량\n",
        "df1=df[df['year']==2021]\n",
        "df2=df[df['year']==2022]\n",
        "x=[1,32,60,91,121,152,182,213,244,274,305,335]\n",
        "plt.figure(figsize=(15, 5))\n",
        "# 2021\n",
        "average_power_usage = df1.groupby('dayofyear')['target'].mean()\n",
        "plt.plot(average_power_usage.index, average_power_usage.values)\n",
        "plt.xlabel('Dayofyear')\n",
        "plt.ylabel('Average Electricity')\n",
        "plt.xticks(x)\n",
        "plt.show()\n",
        "# 2022\n",
        "plt.figure(figsize=(15, 5))\n",
        "average_power_usage = df2.groupby('dayofyear')['target'].mean()\n",
        "plt.plot(average_power_usage.index, average_power_usage.values)\n",
        "plt.xlabel('Dayofyear')\n",
        "plt.ylabel('Average Electricity')\n",
        "plt.xticks(x)\n",
        "plt.show()\n",
        "\n",
        "# 월별 전력사용량\n",
        "plt.figure(figsize=(15, 5))\n",
        "average_power_usage = df.groupby('month')['target'].mean()\n",
        "plt.plot(average_power_usage.index, average_power_usage.values)\n",
        "plt.xlabel('Month')\n",
        "plt.ylabel('Average Electricity')\n",
        "plt.xticks(average_power_usage.index)\n",
        "plt.show()\n",
        "\n",
        "# 요일별 전력사용량\n",
        "plt.figure(figsize=(15, 5))\n",
        "average_power_usage = df.groupby('weekday')['target'].mean()\n",
        "plt.plot(average_power_usage.index, average_power_usage.values)\n",
        "plt.xlabel('Weekday')\n",
        "plt.ylabel('Average Electricity')\n",
        "plt.xticks(average_power_usage.index, rotation=90)\n",
        "plt.show()\n",
        "\n",
        "# 시간별 전력사용량\n",
        "plt.figure(figsize=(15, 5))\n",
        "average_power_usage = df.groupby('hour')['target'].mean()\n",
        "plt.plot(average_power_usage.index, average_power_usage.values)\n",
        "plt.xlabel('Hour')\n",
        "plt.ylabel('Average Electricity')\n",
        "plt.xticks(average_power_usage.index, rotation=90)\n",
        "plt.show()\n",
        "\n",
        "# 일별 기온, 전력사용량\n",
        "fig, ax1=plt.subplots(figsize=(15, 5))\n",
        "average_temperature = df.groupby('dayofyear')['temp'].mean()\n",
        "ax1.plot(average_temperature.index, average_temperature.values,'g-')\n",
        "ax1.set_ylabel('Average Temperature',color='g')\n",
        "ax1.set_xticks(x)\n",
        "ax2=ax1.twinx()\n",
        "average_power_usage = df.groupby('dayofyear')['target'].mean()\n",
        "ax2.plot(average_power_usage.index, average_power_usage.values, 'b-',label='Average Electricity')\n",
        "ax2.set_ylabel('Average Electricity',color='b')\n",
        "plt.show()\n",
        "df=df.drop(columns=['date','weekofyear','dayofyear'])"
      ],
      "metadata": {
        "id": "2lQuhUe4KpDG"
      },
      "execution_count": null,
      "outputs": []
    },
    {
      "cell_type": "code",
      "source": [
        "# 고객번호별 전력사용량 편향도 시각화\n",
        "fig = plt.figure(figsize = (15, 40))\n",
        "for num in range(1,61): # 고객번호 1 ~ 60\n",
        "    ax = plt.subplot(12, 5, num)\n",
        "    energy = df.loc[df.num == num, 'target'].values\n",
        "    mean = energy.mean().round(3)\n",
        "    std = energy.std().round(3)\n",
        "    skew = (3*(mean - np.median(energy))/energy.std()).round(3)\n",
        "    if skew >= 1.5:\n",
        "        plt.hist(energy, alpha = 0.7, bins = 50, color = 'red')\n",
        "    elif skew <= -1.5:\n",
        "        plt.hist(energy, alpha = 0.7, bins = 50, color = 'blue')\n",
        "    else:\n",
        "        plt.hist(energy, alpha = 0.7, bins = 50, color = 'gray')\n",
        "    plt.title(f'customer{num}')\n",
        "    plt.xticks([])\n",
        "    plt.yticks([])\n",
        "    plt.xlabel('')\n",
        "    plt.ylabel('')\n",
        "    plt.text(0.35, 0.9, f'mean : {mean}',  ha='left', va='center', transform=ax.transAxes)\n",
        "    plt.text(0.35, 0.8, f'std : {std}',  ha='left', va='center', transform=ax.transAxes)\n",
        "    plt.text(0.35, 0.7, f'skew : {skew}',  ha='left', va='center', transform=ax.transAxes)\n",
        "plt.show()"
      ],
      "metadata": {
        "id": "pa8DEG5dRVM4"
      },
      "execution_count": null,
      "outputs": []
    },
    {
      "cell_type": "markdown",
      "source": [
        "# 원핫 인코딩"
      ],
      "metadata": {
        "id": "EupPDkouTur8"
      }
    },
    {
      "cell_type": "code",
      "source": [
        "# 범주형 변수인 거리두기에 대해 각각 one-hot encoding 하여 분석에 활용\n",
        "from sklearn.preprocessing import OneHotEncoder\n",
        "encoder=OneHotEncoder()\n",
        "df['거리두기']=df['거리두기'].astype(str)\n",
        "encoded=encoder.fit_transform(df[['거리두기']])\n",
        "encoded_df=pd.DataFrame(encoded.toarray(), columns=encoder.get_feature_names_out(['거리두기']))\n",
        "df = pd.concat([df, encoded_df], axis=1)\n",
        "df = df.drop(columns='거리두기')"
      ],
      "metadata": {
        "id": "SBfOn6LjTwF-"
      },
      "execution_count": null,
      "outputs": []
    },
    {
      "cell_type": "markdown",
      "source": [
        "# 클러스터링"
      ],
      "metadata": {
        "id": "XXPQt1wSSiP4"
      }
    },
    {
      "cell_type": "code",
      "source": [
        "import sklearn\n",
        "from sklearn.linear_model import *\n",
        "from sklearn.svm import SVR\n",
        "from sklearn.cluster import KMeans\n",
        "from sklearn.preprocessing import MinMaxScaler\n",
        "from sklearn.preprocessing import StandardScaler\n",
        "from sklearn.model_selection import train_test_split"
      ],
      "metadata": {
        "id": "j0IJH_5PX-OS"
      },
      "execution_count": null,
      "outputs": []
    },
    {
      "cell_type": "code",
      "source": [
        "# 클러스터링을 하기 위해 필요한 칼럼만 추출\n",
        "tmp_df = df[['client_client_num', 'date_time', 'target']]\n",
        "\n",
        "tmp_df['datetime'] = pd.to_datetime(tmp_df['date_time'])\n",
        "tmp_df['hour'] = tmp_df['datetime'].dt.hour\n",
        "tmp_df['weekday'] = tmp_df['datetime'].dt.weekday\n",
        "tmp_df['date'] = tmp_df['datetime'].dt.date\n",
        "tmp_df['day'] = tmp_df['datetime'].dt.day\n",
        "tmp_df['month'] = tmp_df['datetime'].dt.month\n",
        "tmp_df['weekend'] = tmp_df['weekday'].isin([5,6]).astype(int)\n",
        "\n",
        "# 고객번호별 월화수목금토일 전력사용량(7개의 칼럼) 데이터프레임 생성\n",
        "by_weekday = tmp_df.groupby(['client_num','weekday'])['target'].median().reset_index().pivot(index='client_num',columns='weekday',values='target').reset_index()\n",
        "# 고객번호별 0시~23시 전력사용량(24개의 칼럼) 데이터프레임 생성\n",
        "by_hour = tmp_df.groupby(['client_num','hour'])['target'].median().reset_index().pivot(index='client_num',columns='hour',values='target').reset_index().drop('client_num', axis = 1)\n",
        "# 고객번호별 1~12월 전력사용량(12개의 칼럼) 데이터프레임 생성\n",
        "by_month = tmp_df.groupby(['client_num', 'month'])['target'].median().reset_index().pivot(index='client_num',columns='month',values='target').reset_index().drop('client_num', axis = 1)\n",
        "\n",
        "tmp_df = pd.concat([by_weekday, by_hour, by_month], axis= 1)\n",
        "columns = ['client_num'] + ['day'+str(i) for i in range(7)] + ['hour'+str(i) for i in range(24)] + ['month'+str(i) for i in range(1, 13)]\n",
        "tmp_df.columns = columns"
      ],
      "metadata": {
        "id": "A3jsr7SSvYwz"
      },
      "execution_count": null,
      "outputs": []
    },
    {
      "cell_type": "code",
      "source": [
        "# scaling\n",
        "for i in range(len(tmp_df)):\n",
        "    # 요일 별 전력 중앙값에 대해 scaling\n",
        "    tmp_df.iloc[i,1:8] = (tmp_df.iloc[i,1:8] - tmp_df.iloc[i,1:8].mean())/tmp_df.iloc[i,1:8].std()\n",
        "    # 시간대별 전력 중앙값에 대해 scaling\n",
        "    tmp_df.iloc[i,8:32] = (tmp_df.iloc[i,8:32] - tmp_df.iloc[i,8:32].mean())/tmp_df.iloc[i,8:32].std()\n",
        "    # 월별 전력 중앙값에 대해 scaling\n",
        "    tmp_df.iloc[i,32:] = (tmp_df.iloc[i,32:] - tmp_df.iloc[i,32:].mean())/tmp_df.iloc[i,32:].std()\n",
        "\n",
        "# 결측치 0으로 fill\n",
        "tmp_df.fillna(0, inplace=True)"
      ],
      "metadata": {
        "id": "tE8akHjRwIRz"
      },
      "execution_count": null,
      "outputs": []
    },
    {
      "cell_type": "code",
      "source": [
        "# elbow method를 통해 군집의 개수 결정\n",
        "def change_n_clusters(n_clusters, data):\n",
        "    sum_of_squared_distance = []\n",
        "    for n_cluster in n_clusters:\n",
        "        kmeans = KMeans(n_clusters=n_cluster)\n",
        "        kmeans.fit(data)\n",
        "        sum_of_squared_distance.append(kmeans.inertia_)\n",
        "\n",
        "    plt.figure(1 , figsize = (8, 5))\n",
        "    plt.plot(n_clusters , sum_of_squared_distance , 'o')\n",
        "    plt.plot(n_clusters , sum_of_squared_distance , '-' , alpha = 0.5)\n",
        "    plt.xlabel('Number of Clusters')\n",
        "    plt.ylabel('Inertia')\n",
        "\n",
        "change_n_clusters([2,3,4,5,6,7,8,9,10,11], tmp_df.iloc[:,1:])"
      ],
      "metadata": {
        "id": "nO56l4FfwIVT"
      },
      "execution_count": null,
      "outputs": []
    },
    {
      "cell_type": "code",
      "source": [
        "# 클러스터링 수행(군집 개수 4)\n",
        "kmeans = KMeans(n_clusters=4, random_state = 2)\n",
        "km_cluster = kmeans.fit_predict(tmp_df.iloc[:,1:])"
      ],
      "metadata": {
        "id": "9ghzvytbwIe-"
      },
      "execution_count": null,
      "outputs": []
    },
    {
      "cell_type": "code",
      "source": [
        "# 군집 특징 EDA\n",
        "df_clust = tmp_df.copy()\n",
        "df_clust['km_cluster'] = km_cluster\n",
        "df_clust['km_cluster'] = df_clust['km_cluster'].map({0:1, 1:3, 2:2, 3:0})\n",
        "\n",
        "# 시각화1\n",
        "n_c = len(np.unique(df_clust.km_cluster))\n",
        "\n",
        "fig = plt.figure(figsize = (20,10))\n",
        "for c in range(n_c):\n",
        "    temp = df_clust[df_clust.km_cluster == c]\n",
        "    plt.subplot(n_c,2,2*c+1)\n",
        "    # 클러스터별\n",
        "    for i in range(len(temp)):\n",
        "        plt.plot(temp.iloc[i,1:8], linewidth=0.7)\n",
        "        plt.title(f'cluster{c}')\n",
        "        plt.xlabel('')\n",
        "        plt.xticks([])\n",
        "    plt.subplot(n_c,2,2*c+2)\n",
        "    for i in range(len(temp)):\n",
        "        plt.plot(temp.iloc[i,8:32], linewidth=0.7)\n",
        "        plt.title(f'cluster{c}')\n",
        "        plt.xlabel('')\n",
        "        plt.xticks([])\n",
        "print(plt.show())\n",
        "plt.savefig('clust_plot1-1')\n",
        "\n",
        "fig = plt.figure(figsize = (20,10))\n",
        "for c in range(n_c):\n",
        "    temp = df_clust[df_clust.km_cluster == c]\n",
        "    plt.subplot(n_c,1,c+1)\n",
        "    for i in range(len(temp)):\n",
        "        plt.plot(temp.iloc[i,32:], linewidth=0.7)\n",
        "        plt.title(f'cluster{c}')\n",
        "        plt.xlabel('')\n",
        "        plt.xticks([])\n",
        "print(plt.show())\n",
        "plt.savefig('clust_plot1-2')\n",
        "\n",
        "df_clust = df_clust[['num','km_cluster']]\n",
        "df_clust.to_csv('clust.csv', index=False)\n",
        "\n",
        "# 데이터에 클러스터링 칼럼 추가하기\n",
        "clust = pd.read_csv('clust.csv')\n",
        "data = data.merge(clust, on = 'num', how = 'left')"
      ],
      "metadata": {
        "id": "0hUHz4g0xgXA"
      },
      "execution_count": null,
      "outputs": []
    },
    {
      "cell_type": "code",
      "source": [
        "# 시각화3: heatmap\n",
        "fig = plt.figure(figsize = (20, 4))\n",
        "for c in range(4):\n",
        "    temp = df[df.km_cluster == c]\n",
        "    temp = temp.groupby(['weekday', 'hour'])['target'].median().reset_index().pivot('weekday', 'hour', 'target')\n",
        "    plt.subplot(1, 5, c+1)\n",
        "    sns.heatmap(temp)\n",
        "    plt.title(f'cluster {c}')\n",
        "    plt.xlabel('')\n",
        "    plt.ylabel('')\n",
        "    plt.yticks([])\n",
        "print(plt.show())"
      ],
      "metadata": {
        "id": "O8lsNitEZpGi"
      },
      "execution_count": null,
      "outputs": []
    },
    {
      "cell_type": "markdown",
      "source": [
        "# 모델링"
      ],
      "metadata": {
        "id": "mYZWKZPgSdHl"
      }
    },
    {
      "cell_type": "code",
      "source": [
        "\n",
        "import lightgbm as lgb\n",
        "from catboost import CatBoostRegressor\n",
        "from xgboost import XGBRegressor\n",
        "\n",
        "from sklearn.model_selection import GridSearchCV\n",
        "from sklearn.ensemble import VotingRegressor\n",
        "from sklearn.ensemble import GradientBoostingRegressor\n",
        "\n",
        "from sklearn.metrics import mean_squared_error\n",
        "from sklearn.model_selection import train_test_split\n",
        "\n",
        "\n",
        "# 데이터 로드\n",
        "\n",
        "X = df.drop(columns='target')\n",
        "y = df['target']\n",
        "\n",
        "\n",
        "# 데이터 분할\n",
        "X_train, X_test, y_train, y_test = train_test_split(X, y, test_size=0.2, random_state=42)\n",
        "\n",
        "# LGBM\n",
        "model1 = lgb.LGBMRegressor()\n",
        "model1.fit(X_train, y_train)\n",
        "y_pred1 = model1.predict(X_test)\n",
        "rmse1 = mean_squared_error(y_test, y_pred1, squared=False)\n",
        "print(\"LGBM's RMSE:\", rmse1)\n",
        "rmse1/y_test.mean()*100\n",
        "\n",
        "param_grid = {'n_estimators': [80, 100, 120], 'max_depth':[3,5,7], 'learning_rate' : [0.01, 0.1, 0.2]}\n",
        "grid_search1 = GridSearchCV(model1, param_grid, scoring='neg_root_mean_squared_error', cv=5)\n",
        "grid_search1.fit(X_train, y_train)\n",
        "print('best param: ', grid_search1.best_params_)\n",
        "print('best score: ', grid_search1.best_score_)\n",
        "score = grid_search1.score(X_test, y_test)\n",
        "print('test score: ', score)\n",
        "lgbm_best_params=grid_search1.best_params_\n",
        "model1.set_params(**lgbm_best_params)\n",
        "\n",
        "\n",
        "\n",
        "# XGB\n",
        "model2 = XGBRegressor()\n",
        "model2.fit(X_train, y_train)\n",
        "y_pred2 = model2.predict(X_test)\n",
        "rmse2 = mean_squared_error(y_test, y_pred2, squared=False)\n",
        "print(\"XGB's RMSE:\", rmse2)\n",
        "rmse2/y_test.mean()*100\n",
        "\n",
        "param_grid = {'n_estimators': [80, 100, 120], 'max_depth':[3,5,7], 'learning_rate' : [0.01, 0.1, 0.2]}\n",
        "grid_search2 = GridSearchCV(model2, param_grid, scoring='neg_root_mean_squared_error', cv=5)\n",
        "grid_search2.fit(X_train, y_train)\n",
        "print('best param: ', grid_search2.best_params_)\n",
        "print('best score: ', grid_search2.best_score_)\n",
        "score = grid_search2.score(X_test, y_test)\n",
        "print('test score: ', score)\n",
        "xgb_best_params=grid_search2.best_params_\n",
        "model2.set_params(**xgb_best_params)\n",
        "\n",
        "\n",
        "\n",
        "\n",
        "# Catboost\n",
        "model3 = CatBoostRegressor()\n",
        "model3.fit(X_train, y_train)\n",
        "y_pred3 = model3.predict(X_test)\n",
        "rmse3 = mean_squared_error(y_test, y_pred3, squared=False)\n",
        "print(\"CB's RMSE:\", rmse3)\n",
        "rmse3/y_test.mean()*100\n",
        "\n",
        "param_grid = {'depth': [3, 5, 7], 'learning_rate': [0.01, 0.1, 0.2],'iterations': [100, 200, 300]}\n",
        "grid_search3 = GridSearchCV(model3, param_grid, scoring='neg_root_mean_squared_error', cv=5)\n",
        "grid_search3.fit(X_train, y_train)\n",
        "print('best param: ', grid_search3.best_params_)\n",
        "print('best score: ', grid_search3.best_score_)\n",
        "score = grid_search3.score(X_test, y_test)\n",
        "print('test score: ', score)\n",
        "catboost_best_params=grid_search3.best_params_\n",
        "model3.set_params(**catboost_best_params)"
      ],
      "metadata": {
        "id": "VU5v_GjeSrId"
      },
      "execution_count": null,
      "outputs": []
    },
    {
      "cell_type": "code",
      "source": [
        "# 고객번호별 모델링\n",
        "\n",
        "for i in range(1, 1501):\n",
        "  tmp_df = df[df['client_num'] == i]\n",
        "  X = tmp_df.drop(columns='target')\n",
        "  y = tmp_df['target']\n",
        "  X_train, X_test, y_train, y_test = train_test_split(X, y, test_size=0.2, random_state=42)\n",
        "\n",
        "  model = CatBoostRegressor()\n",
        "  model.fit(X_train, y_train)\n",
        "\n",
        "  y_pred = model.predict(X_test)\n",
        "\n",
        "  rmse = mean_squared_error(y_test, y_pred, squared=False)\n",
        "  rrmse = rmse * 100 / y_test.mean()\n",
        "  print(f\"customer{i} catboost RRMSE:\", rrmse)\n",
        "\n",
        "  model.save_model(f\"catboost_model{i}_{rrmse}.bin\")"
      ],
      "metadata": {
        "id": "EkvSrgeBfpPS"
      },
      "execution_count": null,
      "outputs": []
    },
    {
      "cell_type": "markdown",
      "source": [
        "# 테스트셋 생성"
      ],
      "metadata": {
        "id": "cnWb5AhwXvtG"
      }
    },
    {
      "cell_type": "code",
      "source": [
        "weather=pd.read_csv('/content/drive/MyDrive/Colab Notebooks/산업통상자원부/weather_test.csv')\n",
        "df_jeju=weather[weather['지점명']=='제주']\n",
        "df_go=weather[weather['지점명']=='고산']\n",
        "df_san=weather[weather['지점명']=='성산']\n",
        "df_seo=weather[weather['지점명']=='서귀포']\n",
        "\n",
        "start = pd.to_datetime('2023-01-01')  # 시작 일시\n",
        "end = pd.to_datetime('2023-03-31')  # 종료 일시\n",
        "delta = pd.DateOffset(days=1)  # 1시간 간격으로 설정\n",
        "\n",
        "dates = pd.date_range(start, end, freq=delta)\n",
        "variables = [f'var_{date.strftime(\"%Y-%m-%d\")}' for date in dates]\n",
        "data = {'일시': dates, '데이터': variables}\n",
        "df = pd.DataFrame(data)\n",
        "df=df[['일시']]\n",
        "df['일시']=df['일시'].dt.strftime(\"%Y-%m-%d\")\n",
        "df=df.loc[np.repeat(df.index.values, 24)].reset_index(drop=True)\n",
        "df = df.iloc[1:].reset_index(drop=True)\n",
        "hours = [str(i % 24) + ':00' for i in range(1, 25)]\n",
        "repeated_hours = hours * 90\n",
        "df2 = pd.DataFrame({'시간': repeated_hours})\n",
        "df2 = df2[:2159]\n",
        "df = pd.concat([df, df2], axis=1)\n",
        "df['일시'] = df['일시'].str.cat(df['시간'], sep=' ')\n",
        "df=df.drop('시간',axis=1)\n",
        "\n",
        "# 기온\n",
        "df_jeju3=df_jeju[['일시','기온(°C)']]\n",
        "df_jeju3.rename(columns={'일시': '일시', '기온(°C)': '기온_제주'}, inplace=True)\n",
        "df_go3=df_go[['일시','기온(°C)']]\n",
        "df_go3.rename(columns={'일시': '일시', '기온(°C)': '기온_고산'}, inplace=True)\n",
        "df_seo3=df_seo[['일시','기온(°C)']]\n",
        "df_seo3.rename(columns={'일시': '일시', '기온(°C)': '기온_서귀포'}, inplace=True)\n",
        "df_san3=df_san[['일시','기온(°C)']]\n",
        "df_san3.rename(columns={'일시': '일시', '기온(°C)': '기온_성산'}, inplace=True)\n",
        "\n",
        "merged_df = pd.merge(df, df_jeju3, on='일시', how='left')\n",
        "merged_df = pd.merge(merged_df, df_go3, on='일시', how='left')\n",
        "merged_df = pd.merge(merged_df, df_seo3, on='일시', how='left')\n",
        "merged_df = pd.merge(merged_df, df_san3, on='일시', how='left')\n",
        "\n",
        "merged_df['기온'] = merged_df[['기온_제주', '기온_고산', '기온_서귀포','기온_성산']].mean(axis=1, skipna=True)\n",
        "final2=merged_df[['일시','기온']]\n",
        "final2['기온'].isnull().sum()\n",
        "\n",
        "# 풍속\n",
        "df_jeju4=df_jeju[['일시','풍속(m/s)']]\n",
        "df_jeju4.rename(columns={'일시': '일시', '풍속(m/s)': '풍속_제주'}, inplace=True)\n",
        "df_go4=df_go[['일시','풍속(m/s)']]\n",
        "df_go4.rename(columns={'일시': '일시', '풍속(m/s)': '풍속_고산'}, inplace=True)\n",
        "df_seo4=df_seo[['일시','풍속(m/s)']]\n",
        "df_seo4.rename(columns={'일시': '일시', '풍속(m/s)': '풍속_서귀포'}, inplace=True)\n",
        "df_san4=df_san[['일시','풍속(m/s)']]\n",
        "df_san4.rename(columns={'일시': '일시', '풍속(m/s)': '풍속_성산'}, inplace=True)\n",
        "\n",
        "merged_df = pd.merge(df, df_jeju4, on='일시', how='left')\n",
        "merged_df = pd.merge(merged_df, df_go4, on='일시', how='left')\n",
        "merged_df = pd.merge(merged_df, df_seo4, on='일시', how='left')\n",
        "merged_df = pd.merge(merged_df, df_san4, on='일시', how='left')\n",
        "\n",
        "merged_df['풍속'] = merged_df[['풍속_제주', '풍속_고산', '풍속_서귀포','풍속_성산']].mean(axis=1, skipna=True)\n",
        "final3=merged_df[['일시','풍속']]\n",
        "final3['풍속'].isnull().sum()\n",
        "\n",
        "# 습도\n",
        "df_jeju5=df_jeju[['일시','습도(%)']]\n",
        "df_jeju5.rename(columns={'일시': '일시', '습도(%)': '습도_제주'}, inplace=True)\n",
        "df_go5=df_go[['일시','습도(%)']]\n",
        "df_go5.rename(columns={'일시': '일시', '습도(%)': '습도_고산'}, inplace=True)\n",
        "df_seo5=df_seo[['일시','습도(%)']]\n",
        "df_seo5.rename(columns={'일시': '일시', '습도(%)': '습도_서귀포'}, inplace=True)\n",
        "df_san5=df_san[['일시','습도(%)']]\n",
        "df_san5.rename(columns={'일시': '일시', '습도(%)': '습도_성산'}, inplace=True)\n",
        "\n",
        "merged_df = pd.merge(df, df_jeju5, on='일시', how='left')\n",
        "merged_df = pd.merge(merged_df, df_go5, on='일시', how='left')\n",
        "merged_df = pd.merge(merged_df, df_seo5, on='일시', how='left')\n",
        "merged_df = pd.merge(merged_df, df_san5, on='일시', how='left')\n",
        "\n",
        "merged_df['습도'] = merged_df[['습도_제주', '습도_고산', '습도_서귀포','습도_성산']].mean(axis=1, skipna=True)\n",
        "final4=merged_df[['일시','습도']]\n",
        "final4['습도'].isnull().sum()\n",
        "\n",
        "# 합치기\n",
        "merged_df = pd.merge(df, final2, on='일시', how='left')\n",
        "merged_df = pd.merge(merged_df, final3, on='일시', how='left')\n",
        "merged_df = pd.merge(merged_df, final4, on='일시', how='left')\n",
        "merged_df = pd.merge(merged_df, final, on='일시', how='left')\n",
        "\n",
        "merged_df.isnull().sum()\n",
        "\n",
        "# 불쾌지수, 체감온도\n",
        "merged_df['불쾌지수']=9/5*merged_df['기온'] - 0.55*(1-merged_df['습도']/100)*(9/5*merged_df['기온']-26)+32\n",
        "merged_df['체감온도']=13.12+0.6215*merged_df['기온']-11.37*(merged_df['풍속']**0.16)+0.3965*(merged_df['풍속']**0.16)*merged_df['기온']"
      ],
      "metadata": {
        "id": "J8juaDrDLSj9"
      },
      "execution_count": null,
      "outputs": []
    },
    {
      "cell_type": "code",
      "source": [
        "# 시간 변수\n",
        "df=merged_df.copy()\n",
        "date = df['일시']\n",
        "df['hour']=date.dt.hour\n",
        "df['weekday']=date.dt.weekday\n",
        "df['day'] = date.dt.day\n",
        "df['month'] = date.dt.month\n",
        "df['year']=date.dt.year\n",
        "df['date']=date.dt.strftime('%Y%m%d').astype(int)\n",
        "df['sin_hour']=np.sin(2*np.pi*df.hour/24)\n",
        "df['cos_hour']=np.cos(2*np.pi*df.hour/24)\n",
        "df['weekend'] = df.apply(lambda x : 0 if x['weekday']<5 else 1, axis = 1)\n",
        "df['holiday'] = df['date'].apply(lambda x: 1 if x in [20230123, 20230124, 20230301] else 0)\n",
        "\n",
        "target_date=['2023-01-05 10:00', '2023-01-06 10:00', '2023-01-09 10:00', '2023-01-10 10:00',\n",
        "             '2023-01-11 18:00', '2023-01-12 10:00', '2023-01-14 10:00', '2023-01-18 10:00',\n",
        "             '2023-01-19 11:00', '2023-01-20 10:00', '2023-01-25 18:00', '2023-01-26 10:00',\n",
        "             '2023-01-27 10:00', '2023-01-29 10:00', '2023-02-01 11:00', '2023-02-06 10:00',\n",
        "             '2023-02-07 10:00', '2023-02-08 10:00', '2023-02-09 20:00', '2023-02-11 10:00',\n",
        "             '2023-02-13 11:00', '2023-02-17 10:00', '2023-02-24 19:00', '2023-02-26 20:00',\n",
        "             '2023-02-27 19:00', '2023-03-06 19:00', '2023-03-07 19:00', '2023-03-09 10:00',\n",
        "             '2023-03-10 19:00', '2023-03-11 10:00', '2023-03-20 20:00', '2023-03-21 19:00',\n",
        "             '2023-03-22 19:00', '2023-03-23 11:00', '2023-03-24 19:00', '2023-03-26 10:00',\n",
        "             '2023-03-28 20:00', '2023-03-29 20:00', '2023-03-30 20:00', '2023-03-31 20:00']\n",
        "\n",
        "df2 = df[df['일시'].isin(target_date)]\n",
        "df3=pd.concat([df2] * 1500, ignore_index=True)\n",
        "start_number = 1\n",
        "end_number = 1500\n",
        "repeat_count = 40\n",
        "values = list(range(start_number, end_number + 1))\n",
        "repeated_values = [val for val in values for _ in range(repeat_count)]\n",
        "num = pd.DataFrame({'고객번호': repeated_values})\n",
        "final= pd.concat([num, df3], axis=1)"
      ],
      "metadata": {
        "id": "ftiIHOrbMX5P"
      },
      "execution_count": null,
      "outputs": []
    },
    {
      "cell_type": "code",
      "source": [
        "test=final.copy()\n",
        "test=test.drop('일시', axis=1)\n",
        "test=test.rename(columns={'고객번호':'client_num','기온':'temp','풍속':'wind','습도':'humid',\n",
        "                          '불쾌지수':'discomfort', '체감온도':'temp_body'})\n",
        "\n",
        "test['dist0']=1\n",
        "test['dist1.5']=0\n",
        "test['dist2']=0\n",
        "test['dist3']=0\n",
        "test['dist4']=0\n",
        "test['dist_with']=0\n",
        "test['dist_with_up']=0\n",
        "test['dist_with_down1']=0\n",
        "test['dist_with_down2']=0\n",
        "test['dist_with_down3']=0"
      ],
      "metadata": {
        "id": "AiSXDV5IM_Ie"
      },
      "execution_count": null,
      "outputs": []
    },
    {
      "cell_type": "code",
      "source": [
        "# 전력 수요 예측 컬럼 추가\n",
        "a = pd.read_csv('/content/drive/MyDrive/산업통상자원부 공모전/bidforecastgen_land_2023.xls.csv', encoding='cp949')\n",
        "df = pd.read_csv('/content/drive/MyDrive/산업통상자원부 공모전/0708test.csv')\n",
        "\n",
        "df['prediction'] = ''\n",
        "merged = pd.merge(df, a, on='date', how='inner')\n",
        "merged = merged.sort_values(by='client_num')\n",
        "for i in range(len(merged)):\n",
        "  target = merged['hour'][i]\n",
        "  merged['prediction'][i] = merged[str(target)][i]\n",
        "merged=merged.drop(columns=['date','1','2','3','4','5','6','7','8','9','10','11','12','13','14','15','16','17','18','19','20','21','22','23','24'])\n",
        "merged = merged.sort_values(by=['client_num','month','day','hour'])"
      ],
      "metadata": {
        "id": "olcpsOvQYy_j"
      },
      "execution_count": null,
      "outputs": []
    }
  ]
}