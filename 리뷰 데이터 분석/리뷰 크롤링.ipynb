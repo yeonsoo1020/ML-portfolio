{
 "cells": [
  {
   "cell_type": "code",
   "execution_count": 2,
   "id": "30bf74a4",
   "metadata": {},
   "outputs": [
    {
     "name": "stdout",
     "output_type": "stream",
     "text": [
      "113\n"
     ]
    }
   ],
   "source": [
    "from selenium import webdriver\n",
    "import chromedriver_autoinstaller\n",
    "import time\n",
    "import pandas as pd\n",
    "from selenium.webdriver.common.keys import Keys\n",
    "from selenium.webdriver.common.by import By\n",
    "\n",
    "chrome_ver = chromedriver_autoinstaller.get_chrome_version().split('.')[0]\n",
    "print(chrome_ver)"
   ]
  },
  {
   "cell_type": "code",
   "execution_count": null,
   "id": "d01856ee",
   "metadata": {},
   "outputs": [],
   "source": [
    "stars=[]\n",
    "reviews=[]\n",
    "\n",
    "chrome_ver = chromedriver_autoinstaller.get_chrome_version().split('.')[0]\n",
    "print(chrome_ver)\n",
    "\n",
    "try:\n",
    "    crawler = webdriver.Chrome(f'./{chrome_ver}/chromedriver.exe')\n",
    "except:\n",
    "    chromedriver_autoinstaller.install(True)\n",
    "    crawler = webdriver.Chrome(f'./{chrome_ver}/chromedriver.exe')\n",
    "crawler.implicitly_wait(10)\n",
    "\n",
    "url = 'https://cr.shopping.naver.com/adcr.nhn?x=4pdL8%2BtrYbeHBesmfNG6u%2F%2F%2F%2Fw%3D%3DsAL%2FCQaNv7H2XQTAcrsaGwc6o15%2BMJ9BKRtG4DWad726qUNiex2iD%2FBBfEoIClbxxtyW2hagcoAZ0t4v%2F5ktrPyu0q5aOPfASQZXWX6yX4iF60YkjI%2BtqiEiU2umz2HkcF5DtfbNXYOu7uirNcJLNGcv%2BjB2erv%2BZ%2Brrs5VHOiTQgGE7%2BZatKjf5hEf1XctkK%2FYpCGvXmLYR8yvbfx05QPIgS083pYnLHFgJMvfA6FLQPHez%2Bw3IRE3aaiuOnGmjCHYBMdPSmExYg88V9Px6OIsv%2BjB2erv%2BZ%2Brrs5VHOiTRLlIk0uAh1LVcUK1nkYRMYBDA9Bsdqd3Tn%2BP%2BS2y1XXSdw29MtgWojygKv%2FCpg9T26Wwt8uV%2F1cm39LYJvRKohnuWzOnXNMfMLmTMoUryIey6UxJeah0Om0lkIOZtT9ZL0HOnNiPDZijIU9IGmuHc%2BdRyAdolSCsLdCZ%2BvhqSVuGZEvRbbNgKdySGX0YMwbnFNCBrI%2Bx%2FyaDopDyNynoc1wmiOwiKtfrCeeYUxbfDehFE3riYGb0bxCu4GQsNwdPqLiTjivaQUUJawCiVac0T3MDzVxYpYn%2FYRiQUCNSL1r1rJefoOJbmkO4BD9YMbmM0NUJgJp6CUXauCvW7Y5AjN&nvMid=27860731524&catId=50000394'\n",
    "crawler.get(url)\n",
    "infos=crawler.find_elements(By.CSS_SELECTOR, \".floatingTab_detail_tab__akl87 li\")\n",
    "tab_num = int(len(infos)/2) # 탭 수\n",
    "crawler.find_element('xpath', '//*[@id=\"snb\"]/ul/li[{}]/a'.format(tab_num-1)).click() # 쇼핑몰 리뷰는 탭 마지막 - 1\n"
   ]
  },
  {
   "cell_type": "code",
   "execution_count": null,
   "id": "408a7ecf",
   "metadata": {},
   "outputs": [],
   "source": [
    "# 리뷰 20개\n",
    "for i in range(1,21):\n",
    "\n",
    "    star=crawler.find_element(By.XPATH, '/html/body/div/div/div[2]/div[2]/div[2]/div[3]/div[6]/ul/li[{}]/div[1]/span[1]'.format(i)).text\n",
    "    stars.append(star)\n",
    "    review=crawler.find_element(By.XPATH, '/html/body/div/div/div[2]/div[2]/div[2]/div[3]/div[6]/ul/li[{}]/div[2]/div[1]'.format(i)).text\n",
    "    reviews.append(review)\n",
    "\n",
    "crawler.close()"
   ]
  },
  {
   "cell_type": "code",
   "execution_count": 5,
   "id": "bbea6435",
   "metadata": {},
   "outputs": [
    {
     "name": "stdout",
     "output_type": "stream",
     "text": [
      "   star                                             review\n",
      "0   평점5  저는 오프라인에서 베어 그레이프 샀는데 어머니가 마음에 든다고 하셔서 조금 더 진한...\n",
      "1   평점5  입술이 잘 트고 건조한 편인데, 이 틴트는 촉촉해서 좋아요. 겨울쿨브라이트 톤인데 ...\n",
      "2   평점5  원래 삐* 워터풀틴트 쓰다가 단종되서 유목했는데..쥬시래스팅에 정착할것 같습니다 ㅠ...\n",
      "3   평점5  엄청 달콤한 과일향이 나요 ㅎㅎ조금은 찐득한 틴트 제형이고 민낯+거칠한 맨입술에 바...\n",
      "4   평점4  가을뮤트 22호인 제게는 색상이 좀 칙칙하고 탁한 플럼빛이에요. 웜톤에겐 어울리지 ...\n",
      "5   평점5  모 어플에서 잘 어울리는 제품이라고 추천해줘서 구매했습니다!직접 사용해보니 1회 바...\n",
      "6   평점5  일단 제가 너무나도 갖고싶었던 글로우광틴트에요 ㅎ 찐뜩찐뜩하고 발림성도 너무 좋아요...\n",
      "7   평점5  색이 정말 예뻐요ㅎㅎ 워터리한 제형이라서 촉촉한 립 좋아하시는 분들에게 추천해요! ...\n",
      "8   평점4  색도 딱 원하던 색이예요! 너무 탁하지도 않고 마냥 맑지도 않은 적당한 레드오렌지느...\n",
      "9   평점5  빨간색이라고 해도 다같은 빨간색이 아니더라구요. 체리밤은 한통 비우고 이번에 재구매...\n",
      "10  평점5  매트립만 바르다 갑자기 촉촉립 하고싶어 구매해봤는데 촉촉하고 색도 이쁘네요 근데 선...\n",
      "11  평점5  탕후루 광택의 지속력이 길진 않은데 글로시 한 척 하는 착색 틴트다 보니 색 지속력...\n",
      "12  평점5  코랄색 중 애플브라운이 그래도 너무 쨍하지도 않으면서 적당히 오렌지빛이 날것같아 주...\n",
      "13  평점5  인기 많은 이유를 알게 됐어욯ㅎ 너무 이뻐요 완전 제가 찾던제품 한번 바르면 자연스...\n",
      "14  평점5  라이트톤 강추컬러! 매장에서 테스트해보고 바로 구매했습니다 여리여리한빛인데 쥬시래스...\n",
      "15  평점5  여름뮤트톤 인생템으로 알려져 있지만 피부22호에 가을뮤트톤도 찰떡입니다~ 저는 검정...\n",
      "16  평점5  일단 만족도가 굉장히 높았고 롬앤 립제품은 처음 써봤는데 발림성이나 지속력 좋은 것...\n",
      "17  평점3  메이크업이랑 헤어 받으러 샵에 갔다가 거기서 발라주신 제품이 뭔지 물어봤더니 이거였...\n",
      "18  평점5  처음에 딱 보고 어? 이거 생각보다 너무 진한거 아녀? 했는데 발라보니 진짜 진하게...\n",
      "19  평점5  하.... 여러분 이 색상이 인기가 많은데엔 이유가 있었던 것입니다...ㅠㅠㅠ 색깔...\n"
     ]
    }
   ],
   "source": [
    "df = pd.DataFrame({'star':stars, 'review':reviews })\n",
    "print(df)"
   ]
  },
  {
   "cell_type": "code",
   "execution_count": 59,
   "id": "32e32aa7",
   "metadata": {},
   "outputs": [],
   "source": [
    "data=pd.read_csv('./립틴트.csv')"
   ]
  },
  {
   "cell_type": "code",
   "execution_count": 60,
   "id": "c1c2f453",
   "metadata": {
    "scrolled": true
   },
   "outputs": [
    {
     "data": {
      "text/html": [
       "<div>\n",
       "<style scoped>\n",
       "    .dataframe tbody tr th:only-of-type {\n",
       "        vertical-align: middle;\n",
       "    }\n",
       "\n",
       "    .dataframe tbody tr th {\n",
       "        vertical-align: top;\n",
       "    }\n",
       "\n",
       "    .dataframe thead th {\n",
       "        text-align: right;\n",
       "    }\n",
       "</style>\n",
       "<table border=\"1\" class=\"dataframe\">\n",
       "  <thead>\n",
       "    <tr style=\"text-align: right;\">\n",
       "      <th></th>\n",
       "      <th>Unnamed: 0</th>\n",
       "      <th>name</th>\n",
       "      <th>price</th>\n",
       "      <th>review_cnt</th>\n",
       "      <th>link</th>\n",
       "    </tr>\n",
       "  </thead>\n",
       "  <tbody>\n",
       "    <tr>\n",
       "      <th>0</th>\n",
       "      <td>0</td>\n",
       "      <td>에뛰드 픽싱 틴트 4g</td>\n",
       "      <td>5,390원</td>\n",
       "      <td>18,737</td>\n",
       "      <td>https://cr.shopping.naver.com/adcr.nhn?x=F0Zh%...</td>\n",
       "    </tr>\n",
       "    <tr>\n",
       "      <th>1</th>\n",
       "      <td>1</td>\n",
       "      <td>포렌코즈 타투 끌레르 벨벳 틴트 4g</td>\n",
       "      <td>9,800원</td>\n",
       "      <td>18,251</td>\n",
       "      <td>https://cr.shopping.naver.com/adcr.nhn?x=14L1l...</td>\n",
       "    </tr>\n",
       "    <tr>\n",
       "      <th>2</th>\n",
       "      <td>2</td>\n",
       "      <td>헤라 센슈얼 파우더 매트 5g</td>\n",
       "      <td>18,670원</td>\n",
       "      <td>14,900</td>\n",
       "      <td>https://cr.shopping.naver.com/adcr.nhn?x=bSF0D...</td>\n",
       "    </tr>\n",
       "    <tr>\n",
       "      <th>3</th>\n",
       "      <td>3</td>\n",
       "      <td>메리쏘드 릴타투 워터 틴트 2.7g</td>\n",
       "      <td>9,300원</td>\n",
       "      <td>12,054</td>\n",
       "      <td>https://cr.shopping.naver.com/adcr.nhn?x=45e%2...</td>\n",
       "    </tr>\n",
       "    <tr>\n",
       "      <th>4</th>\n",
       "      <td>4</td>\n",
       "      <td>라카 프루티 글램 틴트 4.5g</td>\n",
       "      <td>13,320원</td>\n",
       "      <td>10,743</td>\n",
       "      <td>https://cr.shopping.naver.com/adcr.nhn?x=Qe%2B...</td>\n",
       "    </tr>\n",
       "    <tr>\n",
       "      <th>...</th>\n",
       "      <td>...</td>\n",
       "      <td>...</td>\n",
       "      <td>...</td>\n",
       "      <td>...</td>\n",
       "      <td>...</td>\n",
       "    </tr>\n",
       "    <tr>\n",
       "      <th>75</th>\n",
       "      <td>75</td>\n",
       "      <td>젝시믹스 워터타투 립틴트 3.9g</td>\n",
       "      <td>2,800원</td>\n",
       "      <td>1,316</td>\n",
       "      <td>https://cr.shopping.naver.com/adcr.nhn?x=wuxxi...</td>\n",
       "    </tr>\n",
       "    <tr>\n",
       "      <th>76</th>\n",
       "      <td>76</td>\n",
       "      <td>에스투엔디 엔들러스터 틴트 3.9g</td>\n",
       "      <td>7,190원</td>\n",
       "      <td>1,250</td>\n",
       "      <td>https://cr.shopping.naver.com/adcr.nhn?x=INfp6...</td>\n",
       "    </tr>\n",
       "    <tr>\n",
       "      <th>77</th>\n",
       "      <td>77</td>\n",
       "      <td>릴리바이레드 쥬시 라이어 워터 틴트 4g</td>\n",
       "      <td>6,300원</td>\n",
       "      <td>1,239</td>\n",
       "      <td>https://cr.shopping.naver.com/adcr.nhn?x=N8rCZ...</td>\n",
       "    </tr>\n",
       "    <tr>\n",
       "      <th>78</th>\n",
       "      <td>78</td>\n",
       "      <td>카라디움 무비퀸 블러 매트 립 틴트 3.4g</td>\n",
       "      <td>6,200원</td>\n",
       "      <td>1,232</td>\n",
       "      <td>https://cr.shopping.naver.com/adcr.nhn?x=YviyX...</td>\n",
       "    </tr>\n",
       "    <tr>\n",
       "      <th>79</th>\n",
       "      <td>79</td>\n",
       "      <td>리즈다 글로우 핏 물착 틴트 4.3g</td>\n",
       "      <td>12,990원</td>\n",
       "      <td>1,209</td>\n",
       "      <td>https://cr.shopping.naver.com/adcr.nhn?x=v3vtY...</td>\n",
       "    </tr>\n",
       "  </tbody>\n",
       "</table>\n",
       "<p>80 rows × 5 columns</p>\n",
       "</div>"
      ],
      "text/plain": [
       "    Unnamed: 0                      name    price review_cnt  \\\n",
       "0            0              에뛰드 픽싱 틴트 4g   5,390원     18,737   \n",
       "1            1      포렌코즈 타투 끌레르 벨벳 틴트 4g   9,800원     18,251   \n",
       "2            2          헤라 센슈얼 파우더 매트 5g  18,670원     14,900   \n",
       "3            3       메리쏘드 릴타투 워터 틴트 2.7g   9,300원     12,054   \n",
       "4            4         라카 프루티 글램 틴트 4.5g  13,320원     10,743   \n",
       "..         ...                       ...      ...        ...   \n",
       "75          75        젝시믹스 워터타투 립틴트 3.9g   2,800원      1,316   \n",
       "76          76       에스투엔디 엔들러스터 틴트 3.9g   7,190원      1,250   \n",
       "77          77    릴리바이레드 쥬시 라이어 워터 틴트 4g   6,300원      1,239   \n",
       "78          78  카라디움 무비퀸 블러 매트 립 틴트 3.4g   6,200원      1,232   \n",
       "79          79      리즈다 글로우 핏 물착 틴트 4.3g  12,990원      1,209   \n",
       "\n",
       "                                                 link  \n",
       "0   https://cr.shopping.naver.com/adcr.nhn?x=F0Zh%...  \n",
       "1   https://cr.shopping.naver.com/adcr.nhn?x=14L1l...  \n",
       "2   https://cr.shopping.naver.com/adcr.nhn?x=bSF0D...  \n",
       "3   https://cr.shopping.naver.com/adcr.nhn?x=45e%2...  \n",
       "4   https://cr.shopping.naver.com/adcr.nhn?x=Qe%2B...  \n",
       "..                                                ...  \n",
       "75  https://cr.shopping.naver.com/adcr.nhn?x=wuxxi...  \n",
       "76  https://cr.shopping.naver.com/adcr.nhn?x=INfp6...  \n",
       "77  https://cr.shopping.naver.com/adcr.nhn?x=N8rCZ...  \n",
       "78  https://cr.shopping.naver.com/adcr.nhn?x=YviyX...  \n",
       "79  https://cr.shopping.naver.com/adcr.nhn?x=v3vtY...  \n",
       "\n",
       "[80 rows x 5 columns]"
      ]
     },
     "execution_count": 60,
     "metadata": {},
     "output_type": "execute_result"
    }
   ],
   "source": [
    "data"
   ]
  },
  {
   "cell_type": "code",
   "execution_count": 63,
   "id": "554fcfd1",
   "metadata": {},
   "outputs": [
    {
     "name": "stderr",
     "output_type": "stream",
     "text": [
      "C:\\Users\\1020n\\AppData\\Local\\Temp\\ipykernel_19620\\3430516669.py:3: DeprecationWarning: executable_path has been deprecated, please pass in a Service object\n",
      "  crawler = webdriver.Chrome(f'./{chrome_ver}/chromedriver.exe')\n",
      "Incompatible release of chromedriver (version 112.0.5615.49) detected in PATH: C:\\Users\\1020n\\chromedriver.exe\n"
     ]
    },
    {
     "name": "stdout",
     "output_type": "stream",
     "text": [
      "4.7/5\n"
     ]
    }
   ],
   "source": [
    "chrome_ver = chromedriver_autoinstaller.get_chrome_version().split('.')[0]\n",
    "try:\n",
    "    crawler = webdriver.Chrome(f'./{chrome_ver}/chromedriver.exe')\n",
    "except:\n",
    "    chromedriver_autoinstaller.install(True)\n",
    "    crawler = webdriver.Chrome(f'./{chrome_ver}/chromedriver.exe')\n",
    "crawler.implicitly_wait(10)\n",
    "\n",
    "url = data['link'][0]\n",
    "crawler.get(url)\n",
    "infos=crawler.find_elements(By.CSS_SELECTOR, \".floatingTab_detail_tab__akl87 li\")\n",
    "tab_num = int(len(infos)/2) # 탭 수\n",
    "crawler.find_element('xpath', '//*[@id=\"snb\"]/ul/li[{}]/a'.format(tab_num-1)).click() # 쇼핑몰 리뷰는 탭 마지막 - 1\n",
    "\n",
    "star=crawler.find_element(By.XPATH, '/html/body/div/div/div[2]/div[2]/div[2]/div[3]/div[7]/div[1]/div[1]/div[1]/div[2]/div[2]').text\n",
    "print(star)"
   ]
  },
  {
   "cell_type": "code",
   "execution_count": 67,
   "id": "969f0412",
   "metadata": {},
   "outputs": [],
   "source": [
    "def crawling(num):\n",
    "    stars=[]\n",
    "    reviews=[]\n",
    "\n",
    "    chrome_ver = chromedriver_autoinstaller.get_chrome_version().split('.')[0]\n",
    "    try:\n",
    "        crawler = webdriver.Chrome(f'./{chrome_ver}/chromedriver.exe')\n",
    "    except:\n",
    "        chromedriver_autoinstaller.install(True)\n",
    "        crawler = webdriver.Chrome(f'./{chrome_ver}/chromedriver.exe')\n",
    "    crawler.implicitly_wait(10)\n",
    "\n",
    "    url = data['link'][num]\n",
    "    crawler.get(url)\n",
    "    infos=crawler.find_elements(By.CSS_SELECTOR, \".floatingTab_detail_tab__akl87 li\")\n",
    "    tab_num = int(len(infos)/2) # 탭 수\n",
    "    crawler.find_element('xpath', '//*[@id=\"snb\"]/ul/li[{}]/a'.format(tab_num-1)).click() # 쇼핑몰 리뷰는 탭 마지막 - 1\n",
    "    \n",
    "    # 리뷰 20개\n",
    "    for i in range(1,21):\n",
    "        star=crawler.find_element(By.XPATH, '/html/body/div/div/div[2]/div[2]/div[2]/div[3]/div[{}]/ul/li[{}]/div[1]/span[1]'.format(tab_num+1,i)).text\n",
    "        stars.append(star)\n",
    "\n",
    "        review=crawler.find_element(By.XPATH, '/html/body/div/div/div[2]/div[2]/div[2]/div[3]/div[{}]/ul/li[{}]/div[2]/div[1]'.format(tab_num+1,i)).text\n",
    "        reviews.append(review)\n",
    "    \n",
    "    crawler.close()\n",
    "\n",
    "    df = pd.DataFrame({'star':stars, 'review':reviews })\n",
    "    print(df)\n",
    "\n",
    "    "
   ]
  },
  {
   "cell_type": "code",
   "execution_count": 80,
   "id": "a8bc073b",
   "metadata": {},
   "outputs": [
    {
     "name": "stderr",
     "output_type": "stream",
     "text": [
      "C:\\Users\\1020n\\AppData\\Local\\Temp\\ipykernel_19620\\2282581783.py:7: DeprecationWarning: executable_path has been deprecated, please pass in a Service object\n",
      "  crawler = webdriver.Chrome(f'./{chrome_ver}/chromedriver.exe')\n",
      "Incompatible release of chromedriver (version 112.0.5615.49) detected in PATH: C:\\Users\\1020n\\chromedriver.exe\n"
     ]
    },
    {
     "name": "stdout",
     "output_type": "stream",
     "text": [
      "   star                                             review\n",
      "0   평점5  오우 물광 장원영쓰 느낌으로 바르고 싶었는데 제 얼굴은 장원영이 아니지만 발림성 너...\n",
      "1   평점5  ⭐️인생물먹립찾았습니다⭐️저는 쿨톤이고 얼굴에 조명을 켜주는듯한 색상의 립을선호하는...\n",
      "2   평점5  카톡 상단에 광고배너보고 찾아서 구매하게됐는데, 자연스럽고 분위기있는 MLBB컬러로...\n",
      "3   평점3  상세페이지 발색샷 너무 예뻐서 구매했는데 생각보다 진한 핑크색이네요. 톤 다운 된 ...\n",
      "4   평점5  가을뮤트 색감에 제형도 너무 좋아요!누드라기보다는 브라운브릭핑크에 가깝지만 톤이 뮤...\n",
      "5   평점5  며칠을 고민만 하다가 결국 질렀는데 빨리 안산내 자신이 후회됐네요 ㅎㅎ실물 발라보고...\n",
      "6   평점5  연한데 완전 연하다고 하기는 애매하고 딱 좋다고 하기엔 연함 근데 적당함 아 그래서...\n",
      "7   평점2  살 당시에 누드뮬리는 품절이라 신세계몰인가 어딘지는 정확히 기억안나지만 아무튼 다른...\n",
      "8   평점5  겨울이고 입술이 트고 갈라지는데 립밤만 바를수 없겠더라구요 인스타 보다가 광고가 뜨...\n",
      "9   평점1  이건 공홈 발색이 거의 소비자 기만이 아닌가 싶은 원래 귀찮아서 리뷰도 잘 안쓰는데...\n",
      "10  평점3  원했던 맑은 발색과는 좀 달랐어요 탁한편이에요 지속력은 광택은 오래안가요 착색은 잘...\n",
      "11  평점5  요새 벨벳제형만 사용하다가 오랜만에 글로시한걸 사용하고 싶어서 리즈다제품 처음 구매...\n",
      "12  평점5  물착틴트라 많이 워터리 할 줄 알았는데 생각보다 글로시 합니다. 하지만 촉촉해서 좋...\n",
      "13  평점5  발색이 생각보다 진해요 피부가 까만편인데도 누드뮬리 쌩얼에발랐을때 적당한정도로 진함...\n",
      "14  평점4  제품 자체로는 좋은데 두컬러 모두 제 입술에는 보라색이랑 버건디계열 쪽으로 발색이 ...\n",
      "15  평점5  일단 배송이 진짜 빨랐고 원플러스 원이라 동생이랑 나눠 가지려고 샀는데 발림성도 좋...\n",
      "16  평점5  인스타에서 처음 보고 꼼꼼히리뷰 살펴보았는데 평이 좋더라고요! 발림성이나, 발색, ...\n",
      "17  평점5  님들 이건 사세요 립 매번 수정하기 귀찮으신분들 강추임오자마자 색좀 보려고 바르고 ...\n",
      "18  평점5  기대 안했는데 글로시하게 예쁘게 표현되네요! ㅎㅎ 원플원이라 뮤티드 깔아주고 로즈퍼...\n",
      "19  평점5  드디어 인생틴트 찾았어요..제입술에 뭘발라도 모델같은 발색이 안됐었는데 이건 너무예...\n"
     ]
    }
   ],
   "source": [
    "crawling(79)"
   ]
  },
  {
   "cell_type": "code",
   "execution_count": null,
   "id": "e2820819",
   "metadata": {},
   "outputs": [],
   "source": []
  }
 ],
 "metadata": {
  "kernelspec": {
   "display_name": "Python 3 (ipykernel)",
   "language": "python",
   "name": "python3"
  },
  "language_info": {
   "codemirror_mode": {
    "name": "ipython",
    "version": 3
   },
   "file_extension": ".py",
   "mimetype": "text/x-python",
   "name": "python",
   "nbconvert_exporter": "python",
   "pygments_lexer": "ipython3",
   "version": "3.10.9"
  }
 },
 "nbformat": 4,
 "nbformat_minor": 5
}
