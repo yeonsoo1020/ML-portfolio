{
 "cells": [
  {
   "cell_type": "code",
   "execution_count": null,
   "metadata": {
    "id": "g4kJsrRceB74"
   },
   "outputs": [],
   "source": [
    "import pandas as pd\n",
    "import warnings\n",
    "warnings.filterwarnings(action='ignore')\n",
    "import numpy as np\n",
    "import matplotlib.pyplot as plt\n",
    "import seaborn as sns"
   ]
  },
  {
   "cell_type": "markdown",
   "metadata": {
    "id": "WdTSPZhL2qWJ"
   },
   "source": [
    "# 가격만 고려"
   ]
  },
  {
   "cell_type": "code",
   "execution_count": null,
   "metadata": {
    "id": "Hocg70hc2754"
   },
   "outputs": [],
   "source": [
    "lipstick = pd.read_csv('lipstick_data.csv')\n",
    "liptint = pd.read_csv('liptint_data.csv')\n",
    "total = pd.concat([lipstick,liptint])"
   ]
  },
  {
   "cell_type": "code",
   "execution_count": null,
   "metadata": {
    "colab": {
     "base_uri": "https://localhost:8080/",
     "height": 468
    },
    "id": "WRrye9JFhf2H",
    "outputId": "180e1fb6-9474-4d0b-a06d-de5c27779e2d"
   },
   "outputs": [
    {
     "data": {
      "text/html": [
       "\n",
       "  <div id=\"df-75cc4e83-4128-4648-84c7-02df56fa0032\">\n",
       "    <div class=\"colab-df-container\">\n",
       "      <div>\n",
       "<style scoped>\n",
       "    .dataframe tbody tr th:only-of-type {\n",
       "        vertical-align: middle;\n",
       "    }\n",
       "\n",
       "    .dataframe tbody tr th {\n",
       "        vertical-align: top;\n",
       "    }\n",
       "\n",
       "    .dataframe thead th {\n",
       "        text-align: right;\n",
       "    }\n",
       "</style>\n",
       "<table border=\"1\" class=\"dataframe\">\n",
       "  <thead>\n",
       "    <tr style=\"text-align: right;\">\n",
       "      <th></th>\n",
       "      <th>Title</th>\n",
       "      <th>Price</th>\n",
       "      <th>Detail</th>\n",
       "      <th>Text</th>\n",
       "    </tr>\n",
       "  </thead>\n",
       "  <tbody>\n",
       "    <tr>\n",
       "      <th>0</th>\n",
       "      <td>3CE 블러 매트 립스틱 4g</td>\n",
       "      <td>19,800원</td>\n",
       "      <td>피부타입 : 모든피부용색상 : 레드,핑크,코랄,베이지웜톤 : 웜톤쿨톤 : 쿨톤주요제...</td>\n",
       "      <td>찜하기454</td>\n",
       "    </tr>\n",
       "    <tr>\n",
       "      <th>1</th>\n",
       "      <td>각질 부담없이 매트한 엔드루즈 코벳 립스틱</td>\n",
       "      <td>17,000원</td>\n",
       "      <td>색상 : 레드,코랄주요제품특징 : 고발색,부드러운 발림세부제품특징 : 촉촉함(수분공...</td>\n",
       "      <td>찜하기26</td>\n",
       "    </tr>\n",
       "    <tr>\n",
       "      <th>2</th>\n",
       "      <td>케이트 수채화 발색 착색 립몬스터 11컬러</td>\n",
       "      <td>19,200원</td>\n",
       "      <td>피부타입 : 모든피부용색상 : 레드,버건디,핑크주요제품특징 : 지속력,부드러운 발림...</td>\n",
       "      <td>찜하기1541</td>\n",
       "    </tr>\n",
       "    <tr>\n",
       "      <th>3</th>\n",
       "      <td>맥 파우더 키스 립스틱 3g</td>\n",
       "      <td>18,380원</td>\n",
       "      <td>피부타입 : 모든피부용색상 : 레드,핑크,피치연출효과 : 매트주요제품특징 : 부드러...</td>\n",
       "      <td>찜하기297</td>\n",
       "    </tr>\n",
       "    <tr>\n",
       "      <th>4</th>\n",
       "      <td>맥 립스틱 3g</td>\n",
       "      <td>19,890원</td>\n",
       "      <td>피부타입 : 모든피부용색상 : 레드,핑크,코랄,오렌지,브라운,멀티플연출효과 : 매트...</td>\n",
       "      <td>찜하기249</td>\n",
       "    </tr>\n",
       "    <tr>\n",
       "      <th>...</th>\n",
       "      <td>...</td>\n",
       "      <td>...</td>\n",
       "      <td>...</td>\n",
       "      <td>...</td>\n",
       "    </tr>\n",
       "    <tr>\n",
       "      <th>549</th>\n",
       "      <td>토니모리 퍼펙트립스 쇼킹립 틴트  8 배드라이어  1개</td>\n",
       "      <td>10,400원</td>\n",
       "      <td>피부타입 : 모든피부용색상 : 핑크,피치주요제품특징 : 부드러운 발림세부제품특징 :...</td>\n",
       "      <td>찜하기0</td>\n",
       "    </tr>\n",
       "    <tr>\n",
       "      <th>550</th>\n",
       "      <td>컬러그램톡 썬더볼 틴트 라커  1개  01 로맨스톡</td>\n",
       "      <td>19,240원</td>\n",
       "      <td>피부타입 : 모든피부용주요제품특징 : 지속력,고발색,부드러운 발림세부제품특징 : 매...</td>\n",
       "      <td>찜하기0</td>\n",
       "    </tr>\n",
       "    <tr>\n",
       "      <th>551</th>\n",
       "      <td>릴리바이레드 릴리바이레드 스마일리 립 블렌딩 스틱+픽싱틴트 세트  01 싱긋싱긋(L...</td>\n",
       "      <td>20,600원</td>\n",
       "      <td>피부타입 : 모든피부용색상 : 레드,핑크,베이지연출효과 : 매트주요제품특징 : 지속...</td>\n",
       "      <td>찜하기0</td>\n",
       "    </tr>\n",
       "    <tr>\n",
       "      <th>552</th>\n",
       "      <td>네일아트 투명 말랑 말캉 시럽 틴트 팁 24p 5종 Y37519</td>\n",
       "      <td>6,500원</td>\n",
       "      <td>피부타입 : 모든피부용색상 : 레드,핑크,코랄,오렌지,베이지,브라운웜톤 : 웜톤쿨톤...</td>\n",
       "      <td>찜하기0</td>\n",
       "    </tr>\n",
       "    <tr>\n",
       "      <th>553</th>\n",
       "      <td>해외클라란스 립 워터 넘버 02 오렌지 워터 7ml</td>\n",
       "      <td>31,060원</td>\n",
       "      <td>피부타입 : 모든피부용주요제품특징 : 고발색세부제품특징 : 촉촉함(수분공급)제품형태...</td>\n",
       "      <td>찜하기1</td>\n",
       "    </tr>\n",
       "  </tbody>\n",
       "</table>\n",
       "<p>1125 rows × 4 columns</p>\n",
       "</div>\n",
       "      <button class=\"colab-df-convert\" onclick=\"convertToInteractive('df-75cc4e83-4128-4648-84c7-02df56fa0032')\"\n",
       "              title=\"Convert this dataframe to an interactive table.\"\n",
       "              style=\"display:none;\">\n",
       "        \n",
       "  <svg xmlns=\"http://www.w3.org/2000/svg\" height=\"24px\"viewBox=\"0 0 24 24\"\n",
       "       width=\"24px\">\n",
       "    <path d=\"M0 0h24v24H0V0z\" fill=\"none\"/>\n",
       "    <path d=\"M18.56 5.44l.94 2.06.94-2.06 2.06-.94-2.06-.94-.94-2.06-.94 2.06-2.06.94zm-11 1L8.5 8.5l.94-2.06 2.06-.94-2.06-.94L8.5 2.5l-.94 2.06-2.06.94zm10 10l.94 2.06.94-2.06 2.06-.94-2.06-.94-.94-2.06-.94 2.06-2.06.94z\"/><path d=\"M17.41 7.96l-1.37-1.37c-.4-.4-.92-.59-1.43-.59-.52 0-1.04.2-1.43.59L10.3 9.45l-7.72 7.72c-.78.78-.78 2.05 0 2.83L4 21.41c.39.39.9.59 1.41.59.51 0 1.02-.2 1.41-.59l7.78-7.78 2.81-2.81c.8-.78.8-2.07 0-2.86zM5.41 20L4 18.59l7.72-7.72 1.47 1.35L5.41 20z\"/>\n",
       "  </svg>\n",
       "      </button>\n",
       "      \n",
       "  <style>\n",
       "    .colab-df-container {\n",
       "      display:flex;\n",
       "      flex-wrap:wrap;\n",
       "      gap: 12px;\n",
       "    }\n",
       "\n",
       "    .colab-df-convert {\n",
       "      background-color: #E8F0FE;\n",
       "      border: none;\n",
       "      border-radius: 50%;\n",
       "      cursor: pointer;\n",
       "      display: none;\n",
       "      fill: #1967D2;\n",
       "      height: 32px;\n",
       "      padding: 0 0 0 0;\n",
       "      width: 32px;\n",
       "    }\n",
       "\n",
       "    .colab-df-convert:hover {\n",
       "      background-color: #E2EBFA;\n",
       "      box-shadow: 0px 1px 2px rgba(60, 64, 67, 0.3), 0px 1px 3px 1px rgba(60, 64, 67, 0.15);\n",
       "      fill: #174EA6;\n",
       "    }\n",
       "\n",
       "    [theme=dark] .colab-df-convert {\n",
       "      background-color: #3B4455;\n",
       "      fill: #D2E3FC;\n",
       "    }\n",
       "\n",
       "    [theme=dark] .colab-df-convert:hover {\n",
       "      background-color: #434B5C;\n",
       "      box-shadow: 0px 1px 3px 1px rgba(0, 0, 0, 0.15);\n",
       "      filter: drop-shadow(0px 1px 2px rgba(0, 0, 0, 0.3));\n",
       "      fill: #FFFFFF;\n",
       "    }\n",
       "  </style>\n",
       "\n",
       "      <script>\n",
       "        const buttonEl =\n",
       "          document.querySelector('#df-75cc4e83-4128-4648-84c7-02df56fa0032 button.colab-df-convert');\n",
       "        buttonEl.style.display =\n",
       "          google.colab.kernel.accessAllowed ? 'block' : 'none';\n",
       "\n",
       "        async function convertToInteractive(key) {\n",
       "          const element = document.querySelector('#df-75cc4e83-4128-4648-84c7-02df56fa0032');\n",
       "          const dataTable =\n",
       "            await google.colab.kernel.invokeFunction('convertToInteractive',\n",
       "                                                     [key], {});\n",
       "          if (!dataTable) return;\n",
       "\n",
       "          const docLinkHtml = 'Like what you see? Visit the ' +\n",
       "            '<a target=\"_blank\" href=https://colab.research.google.com/notebooks/data_table.ipynb>data table notebook</a>'\n",
       "            + ' to learn more about interactive tables.';\n",
       "          element.innerHTML = '';\n",
       "          dataTable['output_type'] = 'display_data';\n",
       "          await google.colab.output.renderOutput(dataTable, element);\n",
       "          const docLink = document.createElement('div');\n",
       "          docLink.innerHTML = docLinkHtml;\n",
       "          element.appendChild(docLink);\n",
       "        }\n",
       "      </script>\n",
       "    </div>\n",
       "  </div>\n",
       "  "
      ],
      "text/plain": [
       "                                                 Title    Price  \\\n",
       "0                                     3CE 블러 매트 립스틱 4g  19,800원   \n",
       "1                              각질 부담없이 매트한 엔드루즈 코벳 립스틱  17,000원   \n",
       "2                              케이트 수채화 발색 착색 립몬스터 11컬러  19,200원   \n",
       "3                                      맥 파우더 키스 립스틱 3g  18,380원   \n",
       "4                                             맥 립스틱 3g  19,890원   \n",
       "..                                                 ...      ...   \n",
       "549                     토니모리 퍼펙트립스 쇼킹립 틴트  8 배드라이어  1개  10,400원   \n",
       "550                       컬러그램톡 썬더볼 틴트 라커  1개  01 로맨스톡  19,240원   \n",
       "551  릴리바이레드 릴리바이레드 스마일리 립 블렌딩 스틱+픽싱틴트 세트  01 싱긋싱긋(L...  20,600원   \n",
       "552                네일아트 투명 말랑 말캉 시럽 틴트 팁 24p 5종 Y37519   6,500원   \n",
       "553                       해외클라란스 립 워터 넘버 02 오렌지 워터 7ml  31,060원   \n",
       "\n",
       "                                                Detail     Text  \n",
       "0    피부타입 : 모든피부용색상 : 레드,핑크,코랄,베이지웜톤 : 웜톤쿨톤 : 쿨톤주요제...   찜하기454  \n",
       "1    색상 : 레드,코랄주요제품특징 : 고발색,부드러운 발림세부제품특징 : 촉촉함(수분공...    찜하기26  \n",
       "2    피부타입 : 모든피부용색상 : 레드,버건디,핑크주요제품특징 : 지속력,부드러운 발림...  찜하기1541  \n",
       "3    피부타입 : 모든피부용색상 : 레드,핑크,피치연출효과 : 매트주요제품특징 : 부드러...   찜하기297  \n",
       "4    피부타입 : 모든피부용색상 : 레드,핑크,코랄,오렌지,브라운,멀티플연출효과 : 매트...   찜하기249  \n",
       "..                                                 ...      ...  \n",
       "549  피부타입 : 모든피부용색상 : 핑크,피치주요제품특징 : 부드러운 발림세부제품특징 :...     찜하기0  \n",
       "550  피부타입 : 모든피부용주요제품특징 : 지속력,고발색,부드러운 발림세부제품특징 : 매...     찜하기0  \n",
       "551  피부타입 : 모든피부용색상 : 레드,핑크,베이지연출효과 : 매트주요제품특징 : 지속...     찜하기0  \n",
       "552  피부타입 : 모든피부용색상 : 레드,핑크,코랄,오렌지,베이지,브라운웜톤 : 웜톤쿨톤...     찜하기0  \n",
       "553  피부타입 : 모든피부용주요제품특징 : 고발색세부제품특징 : 촉촉함(수분공급)제품형태...     찜하기1  \n",
       "\n",
       "[1125 rows x 4 columns]"
      ]
     },
     "execution_count": 5,
     "metadata": {},
     "output_type": "execute_result"
    }
   ],
   "source": [
    "total"
   ]
  },
  {
   "cell_type": "code",
   "execution_count": null,
   "metadata": {
    "colab": {
     "base_uri": "https://localhost:8080/"
    },
    "id": "-PCpxnggh3lv",
    "outputId": "b9c5d346-a7d2-47dd-feb3-c62156ee9288"
   },
   "outputs": [
    {
     "name": "stdout",
     "output_type": "stream",
     "text": [
      "<class 'pandas.core.frame.DataFrame'>\n",
      "Int64Index: 1125 entries, 0 to 553\n",
      "Data columns (total 4 columns):\n",
      " #   Column  Non-Null Count  Dtype \n",
      "---  ------  --------------  ----- \n",
      " 0   Title   1125 non-null   object\n",
      " 1   Price   1125 non-null   object\n",
      " 2   Detail  1125 non-null   object\n",
      " 3   Text    1125 non-null   object\n",
      "dtypes: object(4)\n",
      "memory usage: 43.9+ KB\n"
     ]
    }
   ],
   "source": [
    "total.info()"
   ]
  },
  {
   "cell_type": "code",
   "execution_count": null,
   "metadata": {
    "id": "MJ93B6zxiGsl"
   },
   "outputs": [],
   "source": [
    "total['Price'] = total['Price'].str.replace('원', '')\n",
    "total['Price'] = total['Price'].str.replace(',', '')"
   ]
  },
  {
   "cell_type": "code",
   "execution_count": null,
   "metadata": {
    "id": "Ya1JcphVi860"
   },
   "outputs": [],
   "source": [
    "total['Text'] = total['Text'].str.replace('찜하기', '')"
   ]
  },
  {
   "cell_type": "code",
   "execution_count": null,
   "metadata": {
    "id": "SZmdDij7jEMj"
   },
   "outputs": [],
   "source": [
    "total['Price'] = total['Price'].astype(int)\n",
    "total['Text'] = total['Text'].astype(int)"
   ]
  },
  {
   "cell_type": "code",
   "execution_count": null,
   "metadata": {
    "colab": {
     "base_uri": "https://localhost:8080/"
    },
    "id": "oOBgiRpYiuuf",
    "outputId": "6218b933-4c49-4712-bfaa-b3abb5a0ade8"
   },
   "outputs": [
    {
     "name": "stdout",
     "output_type": "stream",
     "text": [
      "<class 'pandas.core.frame.DataFrame'>\n",
      "Int64Index: 1125 entries, 0 to 553\n",
      "Data columns (total 4 columns):\n",
      " #   Column  Non-Null Count  Dtype \n",
      "---  ------  --------------  ----- \n",
      " 0   Title   1125 non-null   object\n",
      " 1   Price   1125 non-null   int64 \n",
      " 2   Detail  1125 non-null   object\n",
      " 3   Text    1125 non-null   int64 \n",
      "dtypes: int64(2), object(2)\n",
      "memory usage: 43.9+ KB\n"
     ]
    }
   ],
   "source": [
    "total.info()"
   ]
  },
  {
   "cell_type": "code",
   "execution_count": null,
   "metadata": {
    "colab": {
     "base_uri": "https://localhost:8080/",
     "height": 424
    },
    "id": "4IkCADULi4a_",
    "outputId": "7c32f5b5-201d-4d8b-dd09-8c11fc5760c0"
   },
   "outputs": [
    {
     "data": {
      "text/html": [
       "\n",
       "  <div id=\"df-0facbf9f-e274-4bf4-9a43-93290ff73cd1\">\n",
       "    <div class=\"colab-df-container\">\n",
       "      <div>\n",
       "<style scoped>\n",
       "    .dataframe tbody tr th:only-of-type {\n",
       "        vertical-align: middle;\n",
       "    }\n",
       "\n",
       "    .dataframe tbody tr th {\n",
       "        vertical-align: top;\n",
       "    }\n",
       "\n",
       "    .dataframe thead th {\n",
       "        text-align: right;\n",
       "    }\n",
       "</style>\n",
       "<table border=\"1\" class=\"dataframe\">\n",
       "  <thead>\n",
       "    <tr style=\"text-align: right;\">\n",
       "      <th></th>\n",
       "      <th>Title</th>\n",
       "      <th>Price</th>\n",
       "      <th>Detail</th>\n",
       "      <th>Text</th>\n",
       "    </tr>\n",
       "  </thead>\n",
       "  <tbody>\n",
       "    <tr>\n",
       "      <th>0</th>\n",
       "      <td>3CE 블러 매트 립스틱 4g</td>\n",
       "      <td>19800</td>\n",
       "      <td>피부타입 : 모든피부용색상 : 레드,핑크,코랄,베이지웜톤 : 웜톤쿨톤 : 쿨톤주요제...</td>\n",
       "      <td>454</td>\n",
       "    </tr>\n",
       "    <tr>\n",
       "      <th>1</th>\n",
       "      <td>각질 부담없이 매트한 엔드루즈 코벳 립스틱</td>\n",
       "      <td>17000</td>\n",
       "      <td>색상 : 레드,코랄주요제품특징 : 고발색,부드러운 발림세부제품특징 : 촉촉함(수분공...</td>\n",
       "      <td>26</td>\n",
       "    </tr>\n",
       "    <tr>\n",
       "      <th>2</th>\n",
       "      <td>케이트 수채화 발색 착색 립몬스터 11컬러</td>\n",
       "      <td>19200</td>\n",
       "      <td>피부타입 : 모든피부용색상 : 레드,버건디,핑크주요제품특징 : 지속력,부드러운 발림...</td>\n",
       "      <td>1541</td>\n",
       "    </tr>\n",
       "    <tr>\n",
       "      <th>3</th>\n",
       "      <td>맥 파우더 키스 립스틱 3g</td>\n",
       "      <td>18380</td>\n",
       "      <td>피부타입 : 모든피부용색상 : 레드,핑크,피치연출효과 : 매트주요제품특징 : 부드러...</td>\n",
       "      <td>297</td>\n",
       "    </tr>\n",
       "    <tr>\n",
       "      <th>4</th>\n",
       "      <td>맥 립스틱 3g</td>\n",
       "      <td>19890</td>\n",
       "      <td>피부타입 : 모든피부용색상 : 레드,핑크,코랄,오렌지,브라운,멀티플연출효과 : 매트...</td>\n",
       "      <td>249</td>\n",
       "    </tr>\n",
       "    <tr>\n",
       "      <th>...</th>\n",
       "      <td>...</td>\n",
       "      <td>...</td>\n",
       "      <td>...</td>\n",
       "      <td>...</td>\n",
       "    </tr>\n",
       "    <tr>\n",
       "      <th>549</th>\n",
       "      <td>토니모리 퍼펙트립스 쇼킹립 틴트  8 배드라이어  1개</td>\n",
       "      <td>10400</td>\n",
       "      <td>피부타입 : 모든피부용색상 : 핑크,피치주요제품특징 : 부드러운 발림세부제품특징 :...</td>\n",
       "      <td>0</td>\n",
       "    </tr>\n",
       "    <tr>\n",
       "      <th>550</th>\n",
       "      <td>컬러그램톡 썬더볼 틴트 라커  1개  01 로맨스톡</td>\n",
       "      <td>19240</td>\n",
       "      <td>피부타입 : 모든피부용주요제품특징 : 지속력,고발색,부드러운 발림세부제품특징 : 매...</td>\n",
       "      <td>0</td>\n",
       "    </tr>\n",
       "    <tr>\n",
       "      <th>551</th>\n",
       "      <td>릴리바이레드 릴리바이레드 스마일리 립 블렌딩 스틱+픽싱틴트 세트  01 싱긋싱긋(L...</td>\n",
       "      <td>20600</td>\n",
       "      <td>피부타입 : 모든피부용색상 : 레드,핑크,베이지연출효과 : 매트주요제품특징 : 지속...</td>\n",
       "      <td>0</td>\n",
       "    </tr>\n",
       "    <tr>\n",
       "      <th>552</th>\n",
       "      <td>네일아트 투명 말랑 말캉 시럽 틴트 팁 24p 5종 Y37519</td>\n",
       "      <td>6500</td>\n",
       "      <td>피부타입 : 모든피부용색상 : 레드,핑크,코랄,오렌지,베이지,브라운웜톤 : 웜톤쿨톤...</td>\n",
       "      <td>0</td>\n",
       "    </tr>\n",
       "    <tr>\n",
       "      <th>553</th>\n",
       "      <td>해외클라란스 립 워터 넘버 02 오렌지 워터 7ml</td>\n",
       "      <td>31060</td>\n",
       "      <td>피부타입 : 모든피부용주요제품특징 : 고발색세부제품특징 : 촉촉함(수분공급)제품형태...</td>\n",
       "      <td>1</td>\n",
       "    </tr>\n",
       "  </tbody>\n",
       "</table>\n",
       "<p>1125 rows × 4 columns</p>\n",
       "</div>\n",
       "      <button class=\"colab-df-convert\" onclick=\"convertToInteractive('df-0facbf9f-e274-4bf4-9a43-93290ff73cd1')\"\n",
       "              title=\"Convert this dataframe to an interactive table.\"\n",
       "              style=\"display:none;\">\n",
       "        \n",
       "  <svg xmlns=\"http://www.w3.org/2000/svg\" height=\"24px\"viewBox=\"0 0 24 24\"\n",
       "       width=\"24px\">\n",
       "    <path d=\"M0 0h24v24H0V0z\" fill=\"none\"/>\n",
       "    <path d=\"M18.56 5.44l.94 2.06.94-2.06 2.06-.94-2.06-.94-.94-2.06-.94 2.06-2.06.94zm-11 1L8.5 8.5l.94-2.06 2.06-.94-2.06-.94L8.5 2.5l-.94 2.06-2.06.94zm10 10l.94 2.06.94-2.06 2.06-.94-2.06-.94-.94-2.06-.94 2.06-2.06.94z\"/><path d=\"M17.41 7.96l-1.37-1.37c-.4-.4-.92-.59-1.43-.59-.52 0-1.04.2-1.43.59L10.3 9.45l-7.72 7.72c-.78.78-.78 2.05 0 2.83L4 21.41c.39.39.9.59 1.41.59.51 0 1.02-.2 1.41-.59l7.78-7.78 2.81-2.81c.8-.78.8-2.07 0-2.86zM5.41 20L4 18.59l7.72-7.72 1.47 1.35L5.41 20z\"/>\n",
       "  </svg>\n",
       "      </button>\n",
       "      \n",
       "  <style>\n",
       "    .colab-df-container {\n",
       "      display:flex;\n",
       "      flex-wrap:wrap;\n",
       "      gap: 12px;\n",
       "    }\n",
       "\n",
       "    .colab-df-convert {\n",
       "      background-color: #E8F0FE;\n",
       "      border: none;\n",
       "      border-radius: 50%;\n",
       "      cursor: pointer;\n",
       "      display: none;\n",
       "      fill: #1967D2;\n",
       "      height: 32px;\n",
       "      padding: 0 0 0 0;\n",
       "      width: 32px;\n",
       "    }\n",
       "\n",
       "    .colab-df-convert:hover {\n",
       "      background-color: #E2EBFA;\n",
       "      box-shadow: 0px 1px 2px rgba(60, 64, 67, 0.3), 0px 1px 3px 1px rgba(60, 64, 67, 0.15);\n",
       "      fill: #174EA6;\n",
       "    }\n",
       "\n",
       "    [theme=dark] .colab-df-convert {\n",
       "      background-color: #3B4455;\n",
       "      fill: #D2E3FC;\n",
       "    }\n",
       "\n",
       "    [theme=dark] .colab-df-convert:hover {\n",
       "      background-color: #434B5C;\n",
       "      box-shadow: 0px 1px 3px 1px rgba(0, 0, 0, 0.15);\n",
       "      filter: drop-shadow(0px 1px 2px rgba(0, 0, 0, 0.3));\n",
       "      fill: #FFFFFF;\n",
       "    }\n",
       "  </style>\n",
       "\n",
       "      <script>\n",
       "        const buttonEl =\n",
       "          document.querySelector('#df-0facbf9f-e274-4bf4-9a43-93290ff73cd1 button.colab-df-convert');\n",
       "        buttonEl.style.display =\n",
       "          google.colab.kernel.accessAllowed ? 'block' : 'none';\n",
       "\n",
       "        async function convertToInteractive(key) {\n",
       "          const element = document.querySelector('#df-0facbf9f-e274-4bf4-9a43-93290ff73cd1');\n",
       "          const dataTable =\n",
       "            await google.colab.kernel.invokeFunction('convertToInteractive',\n",
       "                                                     [key], {});\n",
       "          if (!dataTable) return;\n",
       "\n",
       "          const docLinkHtml = 'Like what you see? Visit the ' +\n",
       "            '<a target=\"_blank\" href=https://colab.research.google.com/notebooks/data_table.ipynb>data table notebook</a>'\n",
       "            + ' to learn more about interactive tables.';\n",
       "          element.innerHTML = '';\n",
       "          dataTable['output_type'] = 'display_data';\n",
       "          await google.colab.output.renderOutput(dataTable, element);\n",
       "          const docLink = document.createElement('div');\n",
       "          docLink.innerHTML = docLinkHtml;\n",
       "          element.appendChild(docLink);\n",
       "        }\n",
       "      </script>\n",
       "    </div>\n",
       "  </div>\n",
       "  "
      ],
      "text/plain": [
       "                                                 Title  Price  \\\n",
       "0                                     3CE 블러 매트 립스틱 4g  19800   \n",
       "1                              각질 부담없이 매트한 엔드루즈 코벳 립스틱  17000   \n",
       "2                              케이트 수채화 발색 착색 립몬스터 11컬러  19200   \n",
       "3                                      맥 파우더 키스 립스틱 3g  18380   \n",
       "4                                             맥 립스틱 3g  19890   \n",
       "..                                                 ...    ...   \n",
       "549                     토니모리 퍼펙트립스 쇼킹립 틴트  8 배드라이어  1개  10400   \n",
       "550                       컬러그램톡 썬더볼 틴트 라커  1개  01 로맨스톡  19240   \n",
       "551  릴리바이레드 릴리바이레드 스마일리 립 블렌딩 스틱+픽싱틴트 세트  01 싱긋싱긋(L...  20600   \n",
       "552                네일아트 투명 말랑 말캉 시럽 틴트 팁 24p 5종 Y37519   6500   \n",
       "553                       해외클라란스 립 워터 넘버 02 오렌지 워터 7ml  31060   \n",
       "\n",
       "                                                Detail  Text  \n",
       "0    피부타입 : 모든피부용색상 : 레드,핑크,코랄,베이지웜톤 : 웜톤쿨톤 : 쿨톤주요제...   454  \n",
       "1    색상 : 레드,코랄주요제품특징 : 고발색,부드러운 발림세부제품특징 : 촉촉함(수분공...    26  \n",
       "2    피부타입 : 모든피부용색상 : 레드,버건디,핑크주요제품특징 : 지속력,부드러운 발림...  1541  \n",
       "3    피부타입 : 모든피부용색상 : 레드,핑크,피치연출효과 : 매트주요제품특징 : 부드러...   297  \n",
       "4    피부타입 : 모든피부용색상 : 레드,핑크,코랄,오렌지,브라운,멀티플연출효과 : 매트...   249  \n",
       "..                                                 ...   ...  \n",
       "549  피부타입 : 모든피부용색상 : 핑크,피치주요제품특징 : 부드러운 발림세부제품특징 :...     0  \n",
       "550  피부타입 : 모든피부용주요제품특징 : 지속력,고발색,부드러운 발림세부제품특징 : 매...     0  \n",
       "551  피부타입 : 모든피부용색상 : 레드,핑크,베이지연출효과 : 매트주요제품특징 : 지속...     0  \n",
       "552  피부타입 : 모든피부용색상 : 레드,핑크,코랄,오렌지,베이지,브라운웜톤 : 웜톤쿨톤...     0  \n",
       "553  피부타입 : 모든피부용주요제품특징 : 고발색세부제품특징 : 촉촉함(수분공급)제품형태...     1  \n",
       "\n",
       "[1125 rows x 4 columns]"
      ]
     },
     "execution_count": 11,
     "metadata": {},
     "output_type": "execute_result"
    }
   ],
   "source": [
    "total"
   ]
  },
  {
   "cell_type": "markdown",
   "metadata": {
    "id": "tM5qZxPbxfK7"
   },
   "source": [
    "## 이상치 제거 x"
   ]
  },
  {
   "cell_type": "code",
   "execution_count": null,
   "metadata": {
    "colab": {
     "base_uri": "https://localhost:8080/",
     "height": 448
    },
    "id": "Q98L1-fgnj2q",
    "outputId": "9c79c7a5-713d-474c-c791-b6e6253c985a"
   },
   "outputs": [
    {
     "data": {
      "text/plain": [
       "<matplotlib.collections.PathCollection at 0x7f1da1eb9510>"
      ]
     },
     "execution_count": 12,
     "metadata": {},
     "output_type": "execute_result"
    },
    {
     "data": {
      "image/png": "[encoded data removed]",
      "text/plain": [
       "<Figure size 640x480 with 1 Axes>"
      ]
     },
     "metadata": {},
     "output_type": "display_data"
    }
   ],
   "source": [
    "plt.scatter(total['Price'],total['Text'])"
   ]
  },
  {
   "cell_type": "code",
   "execution_count": null,
   "metadata": {
    "colab": {
     "base_uri": "https://localhost:8080/"
    },
    "id": "BSUsWZgIxXWw",
    "outputId": "69680c6a-129d-4c76-9cba-ecbb253a305c"
   },
   "outputs": [
    {
     "name": "stdout",
     "output_type": "stream",
     "text": [
      "회귀계수: [-0.00035712]\n",
      "절편: 88.36758332835566\n"
     ]
    }
   ],
   "source": [
    "from sklearn.linear_model import LinearRegression\n",
    "\n",
    "X = total[['Price']]\n",
    "y = total['Text']\n",
    "\n",
    "# 선형회귀 모델 생성\n",
    "model = LinearRegression()\n",
    "\n",
    "# 모델 훈련\n",
    "model.fit(X, y)\n",
    "\n",
    "# 모델 예측\n",
    "y_pred = model.predict(X)\n",
    "\n",
    "# 회귀계수와 절편 출력\n",
    "print('회귀계수:', model.coef_)\n",
    "print('절편:', model.intercept_)"
   ]
  },
  {
   "cell_type": "code",
   "execution_count": null,
   "metadata": {
    "colab": {
     "base_uri": "https://localhost:8080/",
     "height": 467
    },
    "id": "GQzeTqF2zFg5",
    "outputId": "9d41384e-d42c-4c5b-ee42-e0386aff50ae"
   },
   "outputs": [
    {
     "name": "stderr",
     "output_type": "stream",
     "text": [
      "WARNING:matplotlib.legend:No artists with labels found to put in legend.  Note that artists whose label start with an underscore are ignored when legend() is called with no argument.\n"
     ]
    },
    {
     "data": {
      "image/png": "[encoded data removed]",
      "text/plain": [
       "<Figure size 640x480 with 1 Axes>"
      ]
     },
     "metadata": {},
     "output_type": "display_data"
    }
   ],
   "source": [
    "plt.scatter(X, y)\n",
    "plt.plot(X, model.predict(X), color='red', linewidth=2)\n",
    "plt.xlabel('x')\n",
    "plt.ylabel('y')\n",
    "plt.legend()\n",
    "plt.show()"
   ]
  },
  {
   "cell_type": "code",
   "execution_count": null,
   "metadata": {
    "colab": {
     "base_uri": "https://localhost:8080/"
    },
    "id": "iWknAXP0xXaF",
    "outputId": "7c882efc-f8aa-4d0e-8dcf-2a53ed2c961c"
   },
   "outputs": [
    {
     "name": "stdout",
     "output_type": "stream",
     "text": [
      "                            OLS Regression Results                            \n",
      "==============================================================================\n",
      "Dep. Variable:                   Text   R-squared:                       0.002\n",
      "Model:                            OLS   Adj. R-squared:                  0.001\n",
      "Method:                 Least Squares   F-statistic:                     1.695\n",
      "Date:                Thu, 18 May 2023   Prob (F-statistic):              0.193\n",
      "Time:                        11:06:28   Log-Likelihood:                -7608.5\n",
      "No. Observations:                1125   AIC:                         1.522e+04\n",
      "Df Residuals:                    1123   BIC:                         1.523e+04\n",
      "Df Model:                           1                                         \n",
      "Covariance Type:            nonrobust                                         \n",
      "==============================================================================\n",
      "                 coef    std err          t      P>|t|      [0.025      0.975]\n",
      "------------------------------------------------------------------------------\n",
      "const         88.3676      8.774     10.072      0.000      71.153     105.582\n",
      "Price         -0.0004      0.000     -1.302      0.193      -0.001       0.000\n",
      "==============================================================================\n",
      "Omnibus:                     1402.191   Durbin-Watson:                   1.623\n",
      "Prob(Omnibus):                  0.000   Jarque-Bera (JB):           161441.711\n",
      "Skew:                           6.550   Prob(JB):                         0.00\n",
      "Kurtosis:                      60.206   Cond. No.                     4.49e+04\n",
      "==============================================================================\n",
      "\n",
      "Notes:\n",
      "[1] Standard Errors assume that the covariance matrix of the errors is correctly specified.\n",
      "[2] The condition number is large, 4.49e+04. This might indicate that there are\n",
      "strong multicollinearity or other numerical problems.\n"
     ]
    }
   ],
   "source": [
    "import statsmodels.api as sm\n",
    "\n",
    "X = total[['Price']]\n",
    "y = total['Text']\n",
    "\n",
    "# 상수항 추가\n",
    "X = sm.add_constant(X)\n",
    "\n",
    "# 회귀분석 모델 생성\n",
    "model = sm.OLS(y, X)\n",
    "\n",
    "# 모델 훈련\n",
    "results = model.fit()\n",
    "\n",
    "# 회귀계수의 유의성 검정\n",
    "print(results.summary())"
   ]
  },
  {
   "cell_type": "markdown",
   "metadata": {
    "id": "py0tZod5xi5p"
   },
   "source": [
    "## IQR 기준으로 이상치 제거"
   ]
  },
  {
   "cell_type": "code",
   "execution_count": null,
   "metadata": {
    "id": "egbU58Soo99N"
   },
   "outputs": [],
   "source": [
    "# IQR 계산\n",
    "Q1 = total['Price'].quantile(0.25)\n",
    "Q3 = total['Price'].quantile(0.75)\n",
    "IQR = Q3 - Q1\n",
    "\n",
    "# 이상치 제거\n",
    "lower_bound = Q1 - 1.5 * IQR\n",
    "upper_bound = Q3 + 1.5 * IQR\n",
    "total = total[(total['Price'] >= lower_bound) & (total['Price'] <= upper_bound)]"
   ]
  },
  {
   "cell_type": "code",
   "execution_count": null,
   "metadata": {
    "id": "J5Af8u3Qv3fx"
   },
   "outputs": [],
   "source": [
    "# IQR 계산\n",
    "Q1 = total['Text'].quantile(0.25)\n",
    "Q3 = total['Text'].quantile(0.75)\n",
    "IQR = Q3 - Q1\n",
    "\n",
    "# 이상치 제거\n",
    "lower_bound = Q1 - 1.5 * IQR\n",
    "upper_bound = Q3 + 1.5 * IQR\n",
    "total = total[(total['Text'] >= lower_bound) & (total['Text'] <= upper_bound)]"
   ]
  },
  {
   "cell_type": "code",
   "execution_count": null,
   "metadata": {
    "colab": {
     "base_uri": "https://localhost:8080/",
     "height": 448
    },
    "id": "ZXMnRKrZvvJf",
    "outputId": "ed744a39-471e-4759-d94b-d8f6fae099db"
   },
   "outputs": [
    {
     "data": {
      "text/plain": [
       "<matplotlib.collections.PathCollection at 0x7f1d970732e0>"
      ]
     },
     "execution_count": 18,
     "metadata": {},
     "output_type": "execute_result"
    },
    {
     "data": {
      "image/png": "[encoded data removed]",
      "text/plain": [
       "<Figure size 640x480 with 1 Axes>"
      ]
     },
     "metadata": {},
     "output_type": "display_data"
    }
   ],
   "source": [
    "plt.scatter(total['Price'],total['Text'])"
   ]
  },
  {
   "cell_type": "code",
   "execution_count": null,
   "metadata": {
    "colab": {
     "base_uri": "https://localhost:8080/"
    },
    "id": "f697NNB7vwEd",
    "outputId": "a3ed5f56-b6e6-4c94-a77d-5454ffc5cb3b"
   },
   "outputs": [
    {
     "name": "stdout",
     "output_type": "stream",
     "text": [
      "회귀계수: [-4.35891786e-05]\n",
      "절편: 31.222901546841083\n"
     ]
    }
   ],
   "source": [
    "from sklearn.linear_model import LinearRegression\n",
    "\n",
    "X = total[['Price']]\n",
    "y = total['Text']\n",
    "\n",
    "# 선형회귀 모델 생성\n",
    "model = LinearRegression()\n",
    "\n",
    "# 모델 훈련\n",
    "model.fit(X, y)\n",
    "\n",
    "# 모델 예측\n",
    "y_pred = model.predict(X)\n",
    "\n",
    "# 회귀계수와 절편 출력\n",
    "print('회귀계수:', model.coef_)\n",
    "print('절편:', model.intercept_)"
   ]
  },
  {
   "cell_type": "code",
   "execution_count": null,
   "metadata": {
    "colab": {
     "base_uri": "https://localhost:8080/",
     "height": 467
    },
    "id": "ZwMfBR_6zQBa",
    "outputId": "ea51b595-4012-4e9b-acb2-bceab00072ef"
   },
   "outputs": [
    {
     "name": "stderr",
     "output_type": "stream",
     "text": [
      "WARNING:matplotlib.legend:No artists with labels found to put in legend.  Note that artists whose label start with an underscore are ignored when legend() is called with no argument.\n"
     ]
    },
    {
     "data": {
      "image/png": "[encoded data removed]",
      "text/plain": [
       "<Figure size 640x480 with 1 Axes>"
      ]
     },
     "metadata": {},
     "output_type": "display_data"
    }
   ],
   "source": [
    "plt.scatter(X, y)\n",
    "plt.plot(X, model.predict(X), color='red', linewidth=2)\n",
    "plt.xlabel('x')\n",
    "plt.ylabel('y')\n",
    "plt.legend()\n",
    "plt.show()"
   ]
  },
  {
   "cell_type": "code",
   "execution_count": null,
   "metadata": {
    "colab": {
     "base_uri": "https://localhost:8080/"
    },
    "id": "WEJMW-E0wcDq",
    "outputId": "29a9db02-6b5e-46ec-fe58-e33217c5ce23"
   },
   "outputs": [
    {
     "name": "stdout",
     "output_type": "stream",
     "text": [
      "                            OLS Regression Results                            \n",
      "==============================================================================\n",
      "Dep. Variable:                   Text   R-squared:                       0.000\n",
      "Model:                            OLS   Adj. R-squared:                 -0.001\n",
      "Method:                 Least Squares   F-statistic:                    0.2116\n",
      "Date:                Thu, 18 May 2023   Prob (F-statistic):              0.646\n",
      "Time:                        11:07:41   Log-Likelihood:                -4974.3\n",
      "No. Observations:                 966   AIC:                             9953.\n",
      "Df Residuals:                     964   BIC:                             9962.\n",
      "Df Model:                           1                                         \n",
      "Covariance Type:            nonrobust                                         \n",
      "==============================================================================\n",
      "                 coef    std err          t      P>|t|      [0.025      0.975]\n",
      "------------------------------------------------------------------------------\n",
      "const         31.2229      2.332     13.388      0.000      26.646      35.800\n",
      "Price      -4.359e-05   9.47e-05     -0.460      0.646      -0.000       0.000\n",
      "==============================================================================\n",
      "Omnibus:                      279.291   Durbin-Watson:                   1.528\n",
      "Prob(Omnibus):                  0.000   Jarque-Bera (JB):              593.726\n",
      "Skew:                           1.650   Prob(JB):                    1.19e-129\n",
      "Kurtosis:                       4.965   Cond. No.                     4.27e+04\n",
      "==============================================================================\n",
      "\n",
      "Notes:\n",
      "[1] Standard Errors assume that the covariance matrix of the errors is correctly specified.\n",
      "[2] The condition number is large, 4.27e+04. This might indicate that there are\n",
      "strong multicollinearity or other numerical problems.\n"
     ]
    }
   ],
   "source": [
    "import statsmodels.api as sm\n",
    "\n",
    "X = total[['Price']]\n",
    "y = total['Text']\n",
    "\n",
    "# 상수항 추가\n",
    "X = sm.add_constant(X)\n",
    "\n",
    "# 회귀분석 모델 생성\n",
    "model = sm.OLS(y, X)\n",
    "\n",
    "# 모델 훈련\n",
    "results = model.fit()\n",
    "\n",
    "# 회귀계수의 유의성 검정\n",
    "print(results.summary())"
   ]
  },
  {
   "cell_type": "markdown",
   "metadata": {
    "id": "nS8l5Y1D2-6k"
   },
   "source": [
    "# Detail도 포함"
   ]
  },
  {
   "cell_type": "code",
   "execution_count": null,
   "metadata": {
    "id": "BeeCfRpxwsEi"
   },
   "outputs": [],
   "source": [
    "lipstick = pd.read_csv('lipstick_data.csv')\n",
    "liptint = pd.read_csv('liptint_data.csv')\n",
    "total = pd.concat([lipstick,liptint])"
   ]
  },
  {
   "cell_type": "code",
   "execution_count": null,
   "metadata": {
    "id": "8pURVzBZ3EgD"
   },
   "outputs": [],
   "source": [
    "total['Price'] = total['Price'].str.replace('원', '')\n",
    "total['Price'] = total['Price'].str.replace(',', '')\n",
    "total['Text'] = total['Text'].str.replace('찜하기', '')\n",
    "total['Price'] = total['Price'].astype(int)\n",
    "total['Text'] = total['Text'].astype(int)"
   ]
  },
  {
   "cell_type": "code",
   "execution_count": null,
   "metadata": {
    "id": "qSbSt0h63NOf"
   },
   "outputs": [],
   "source": [
    "word = '매트'\n",
    "total['matte'] = total['Detail'].apply(lambda x: 1 if word in x else 0)"
   ]
  },
  {
   "cell_type": "code",
   "execution_count": null,
   "metadata": {
    "id": "t8yLbxGT3NU6"
   },
   "outputs": [],
   "source": [
    "word = '촉촉'\n",
    "total['moist'] = total['Detail'].apply(lambda x: 1 if word in x else 0)"
   ]
  },
  {
   "cell_type": "code",
   "execution_count": null,
   "metadata": {
    "colab": {
     "base_uri": "https://localhost:8080/",
     "height": 206
    },
    "id": "pYXHuqPj3WsS",
    "outputId": "0021e212-174e-46fd-9a0b-b26e85f17f02"
   },
   "outputs": [
    {
     "data": {
      "text/html": [
       "\n",
       "  <div id=\"df-352a5b7d-dd28-4260-8717-1f58747294a5\">\n",
       "    <div class=\"colab-df-container\">\n",
       "      <div>\n",
       "<style scoped>\n",
       "    .dataframe tbody tr th:only-of-type {\n",
       "        vertical-align: middle;\n",
       "    }\n",
       "\n",
       "    .dataframe tbody tr th {\n",
       "        vertical-align: top;\n",
       "    }\n",
       "\n",
       "    .dataframe thead th {\n",
       "        text-align: right;\n",
       "    }\n",
       "</style>\n",
       "<table border=\"1\" class=\"dataframe\">\n",
       "  <thead>\n",
       "    <tr style=\"text-align: right;\">\n",
       "      <th></th>\n",
       "      <th>Title</th>\n",
       "      <th>Price</th>\n",
       "      <th>Detail</th>\n",
       "      <th>Text</th>\n",
       "      <th>matte</th>\n",
       "      <th>moist</th>\n",
       "    </tr>\n",
       "  </thead>\n",
       "  <tbody>\n",
       "    <tr>\n",
       "      <th>0</th>\n",
       "      <td>3CE 블러 매트 립스틱 4g</td>\n",
       "      <td>19800</td>\n",
       "      <td>피부타입 : 모든피부용색상 : 레드,핑크,코랄,베이지웜톤 : 웜톤쿨톤 : 쿨톤주요제...</td>\n",
       "      <td>454</td>\n",
       "      <td>1</td>\n",
       "      <td>0</td>\n",
       "    </tr>\n",
       "    <tr>\n",
       "      <th>1</th>\n",
       "      <td>각질 부담없이 매트한 엔드루즈 코벳 립스틱</td>\n",
       "      <td>17000</td>\n",
       "      <td>색상 : 레드,코랄주요제품특징 : 고발색,부드러운 발림세부제품특징 : 촉촉함(수분공...</td>\n",
       "      <td>26</td>\n",
       "      <td>0</td>\n",
       "      <td>1</td>\n",
       "    </tr>\n",
       "    <tr>\n",
       "      <th>2</th>\n",
       "      <td>케이트 수채화 발색 착색 립몬스터 11컬러</td>\n",
       "      <td>19200</td>\n",
       "      <td>피부타입 : 모든피부용색상 : 레드,버건디,핑크주요제품특징 : 지속력,부드러운 발림...</td>\n",
       "      <td>1541</td>\n",
       "      <td>0</td>\n",
       "      <td>1</td>\n",
       "    </tr>\n",
       "    <tr>\n",
       "      <th>3</th>\n",
       "      <td>맥 파우더 키스 립스틱 3g</td>\n",
       "      <td>18380</td>\n",
       "      <td>피부타입 : 모든피부용색상 : 레드,핑크,피치연출효과 : 매트주요제품특징 : 부드러...</td>\n",
       "      <td>297</td>\n",
       "      <td>1</td>\n",
       "      <td>1</td>\n",
       "    </tr>\n",
       "    <tr>\n",
       "      <th>4</th>\n",
       "      <td>맥 립스틱 3g</td>\n",
       "      <td>19890</td>\n",
       "      <td>피부타입 : 모든피부용색상 : 레드,핑크,코랄,오렌지,브라운,멀티플연출효과 : 매트...</td>\n",
       "      <td>249</td>\n",
       "      <td>1</td>\n",
       "      <td>0</td>\n",
       "    </tr>\n",
       "  </tbody>\n",
       "</table>\n",
       "</div>\n",
       "      <button class=\"colab-df-convert\" onclick=\"convertToInteractive('df-352a5b7d-dd28-4260-8717-1f58747294a5')\"\n",
       "              title=\"Convert this dataframe to an interactive table.\"\n",
       "              style=\"display:none;\">\n",
       "        \n",
       "  <svg xmlns=\"http://www.w3.org/2000/svg\" height=\"24px\"viewBox=\"0 0 24 24\"\n",
       "       width=\"24px\">\n",
       "    <path d=\"M0 0h24v24H0V0z\" fill=\"none\"/>\n",
       "    <path d=\"M18.56 5.44l.94 2.06.94-2.06 2.06-.94-2.06-.94-.94-2.06-.94 2.06-2.06.94zm-11 1L8.5 8.5l.94-2.06 2.06-.94-2.06-.94L8.5 2.5l-.94 2.06-2.06.94zm10 10l.94 2.06.94-2.06 2.06-.94-2.06-.94-.94-2.06-.94 2.06-2.06.94z\"/><path d=\"M17.41 7.96l-1.37-1.37c-.4-.4-.92-.59-1.43-.59-.52 0-1.04.2-1.43.59L10.3 9.45l-7.72 7.72c-.78.78-.78 2.05 0 2.83L4 21.41c.39.39.9.59 1.41.59.51 0 1.02-.2 1.41-.59l7.78-7.78 2.81-2.81c.8-.78.8-2.07 0-2.86zM5.41 20L4 18.59l7.72-7.72 1.47 1.35L5.41 20z\"/>\n",
       "  </svg>\n",
       "      </button>\n",
       "      \n",
       "  <style>\n",
       "    .colab-df-container {\n",
       "      display:flex;\n",
       "      flex-wrap:wrap;\n",
       "      gap: 12px;\n",
       "    }\n",
       "\n",
       "    .colab-df-convert {\n",
       "      background-color: #E8F0FE;\n",
       "      border: none;\n",
       "      border-radius: 50%;\n",
       "      cursor: pointer;\n",
       "      display: none;\n",
       "      fill: #1967D2;\n",
       "      height: 32px;\n",
       "      padding: 0 0 0 0;\n",
       "      width: 32px;\n",
       "    }\n",
       "\n",
       "    .colab-df-convert:hover {\n",
       "      background-color: #E2EBFA;\n",
       "      box-shadow: 0px 1px 2px rgba(60, 64, 67, 0.3), 0px 1px 3px 1px rgba(60, 64, 67, 0.15);\n",
       "      fill: #174EA6;\n",
       "    }\n",
       "\n",
       "    [theme=dark] .colab-df-convert {\n",
       "      background-color: #3B4455;\n",
       "      fill: #D2E3FC;\n",
       "    }\n",
       "\n",
       "    [theme=dark] .colab-df-convert:hover {\n",
       "      background-color: #434B5C;\n",
       "      box-shadow: 0px 1px 3px 1px rgba(0, 0, 0, 0.15);\n",
       "      filter: drop-shadow(0px 1px 2px rgba(0, 0, 0, 0.3));\n",
       "      fill: #FFFFFF;\n",
       "    }\n",
       "  </style>\n",
       "\n",
       "      <script>\n",
       "        const buttonEl =\n",
       "          document.querySelector('#df-352a5b7d-dd28-4260-8717-1f58747294a5 button.colab-df-convert');\n",
       "        buttonEl.style.display =\n",
       "          google.colab.kernel.accessAllowed ? 'block' : 'none';\n",
       "\n",
       "        async function convertToInteractive(key) {\n",
       "          const element = document.querySelector('#df-352a5b7d-dd28-4260-8717-1f58747294a5');\n",
       "          const dataTable =\n",
       "            await google.colab.kernel.invokeFunction('convertToInteractive',\n",
       "                                                     [key], {});\n",
       "          if (!dataTable) return;\n",
       "\n",
       "          const docLinkHtml = 'Like what you see? Visit the ' +\n",
       "            '<a target=\"_blank\" href=https://colab.research.google.com/notebooks/data_table.ipynb>data table notebook</a>'\n",
       "            + ' to learn more about interactive tables.';\n",
       "          element.innerHTML = '';\n",
       "          dataTable['output_type'] = 'display_data';\n",
       "          await google.colab.output.renderOutput(dataTable, element);\n",
       "          const docLink = document.createElement('div');\n",
       "          docLink.innerHTML = docLinkHtml;\n",
       "          element.appendChild(docLink);\n",
       "        }\n",
       "      </script>\n",
       "    </div>\n",
       "  </div>\n",
       "  "
      ],
      "text/plain": [
       "                     Title  Price  \\\n",
       "0         3CE 블러 매트 립스틱 4g  19800   \n",
       "1  각질 부담없이 매트한 엔드루즈 코벳 립스틱  17000   \n",
       "2  케이트 수채화 발색 착색 립몬스터 11컬러  19200   \n",
       "3          맥 파우더 키스 립스틱 3g  18380   \n",
       "4                 맥 립스틱 3g  19890   \n",
       "\n",
       "                                              Detail  Text  matte  moist  \n",
       "0  피부타입 : 모든피부용색상 : 레드,핑크,코랄,베이지웜톤 : 웜톤쿨톤 : 쿨톤주요제...   454      1      0  \n",
       "1  색상 : 레드,코랄주요제품특징 : 고발색,부드러운 발림세부제품특징 : 촉촉함(수분공...    26      0      1  \n",
       "2  피부타입 : 모든피부용색상 : 레드,버건디,핑크주요제품특징 : 지속력,부드러운 발림...  1541      0      1  \n",
       "3  피부타입 : 모든피부용색상 : 레드,핑크,피치연출효과 : 매트주요제품특징 : 부드러...   297      1      1  \n",
       "4  피부타입 : 모든피부용색상 : 레드,핑크,코랄,오렌지,브라운,멀티플연출효과 : 매트...   249      1      0  "
      ]
     },
     "execution_count": 26,
     "metadata": {},
     "output_type": "execute_result"
    }
   ],
   "source": [
    "total.head()"
   ]
  },
  {
   "cell_type": "code",
   "execution_count": null,
   "metadata": {
    "colab": {
     "base_uri": "https://localhost:8080/"
    },
    "id": "_UHXixuj3X_b",
    "outputId": "56ad9138-4db2-4e8c-b2b9-2a13cbecad70"
   },
   "outputs": [
    {
     "name": "stdout",
     "output_type": "stream",
     "text": [
      "341\n",
      "614\n"
     ]
    }
   ],
   "source": [
    "print(sum(total['matte']))\n",
    "print(sum(total['moist']))"
   ]
  },
  {
   "cell_type": "code",
   "execution_count": null,
   "metadata": {
    "id": "KyaIDglw3gjy"
   },
   "outputs": [],
   "source": [
    "# 두 값이 모두 0인 경우는 매트하거나 촉촉함에 대한 정보 자체가 없는 것이기 때문에 둘다 0인 경우는 제거하고 진행\n",
    "df = total.drop(total[(total['matte'] == 0) & (total['moist'] == 0)].index)"
   ]
  },
  {
   "cell_type": "code",
   "execution_count": null,
   "metadata": {
    "colab": {
     "base_uri": "https://localhost:8080/",
     "height": 520
    },
    "id": "Itl4n_xc4AI4",
    "outputId": "023ae6db-a3b2-43be-ddfb-8a09443465c4"
   },
   "outputs": [
    {
     "data": {
      "text/html": [
       "\n",
       "  <div id=\"df-c0515c7c-619f-48ae-ab46-2e1d6565a6ed\">\n",
       "    <div class=\"colab-df-container\">\n",
       "      <div>\n",
       "<style scoped>\n",
       "    .dataframe tbody tr th:only-of-type {\n",
       "        vertical-align: middle;\n",
       "    }\n",
       "\n",
       "    .dataframe tbody tr th {\n",
       "        vertical-align: top;\n",
       "    }\n",
       "\n",
       "    .dataframe thead th {\n",
       "        text-align: right;\n",
       "    }\n",
       "</style>\n",
       "<table border=\"1\" class=\"dataframe\">\n",
       "  <thead>\n",
       "    <tr style=\"text-align: right;\">\n",
       "      <th></th>\n",
       "      <th>Title</th>\n",
       "      <th>Price</th>\n",
       "      <th>Detail</th>\n",
       "      <th>Text</th>\n",
       "      <th>matte</th>\n",
       "      <th>moist</th>\n",
       "    </tr>\n",
       "  </thead>\n",
       "  <tbody>\n",
       "    <tr>\n",
       "      <th>0</th>\n",
       "      <td>3CE 블러 매트 립스틱 4g</td>\n",
       "      <td>19800</td>\n",
       "      <td>피부타입 : 모든피부용색상 : 레드,핑크,코랄,베이지웜톤 : 웜톤쿨톤 : 쿨톤주요제...</td>\n",
       "      <td>454</td>\n",
       "      <td>1</td>\n",
       "      <td>0</td>\n",
       "    </tr>\n",
       "    <tr>\n",
       "      <th>1</th>\n",
       "      <td>각질 부담없이 매트한 엔드루즈 코벳 립스틱</td>\n",
       "      <td>17000</td>\n",
       "      <td>색상 : 레드,코랄주요제품특징 : 고발색,부드러운 발림세부제품특징 : 촉촉함(수분공...</td>\n",
       "      <td>26</td>\n",
       "      <td>0</td>\n",
       "      <td>1</td>\n",
       "    </tr>\n",
       "    <tr>\n",
       "      <th>3</th>\n",
       "      <td>맥 파우더 키스 립스틱 3g</td>\n",
       "      <td>18380</td>\n",
       "      <td>피부타입 : 모든피부용색상 : 레드,핑크,피치연출효과 : 매트주요제품특징 : 부드러...</td>\n",
       "      <td>297</td>\n",
       "      <td>1</td>\n",
       "      <td>1</td>\n",
       "    </tr>\n",
       "    <tr>\n",
       "      <th>4</th>\n",
       "      <td>맥 립스틱 3g</td>\n",
       "      <td>19890</td>\n",
       "      <td>피부타입 : 모든피부용색상 : 레드,핑크,코랄,오렌지,브라운,멀티플연출효과 : 매트...</td>\n",
       "      <td>249</td>\n",
       "      <td>1</td>\n",
       "      <td>0</td>\n",
       "    </tr>\n",
       "    <tr>\n",
       "      <th>5</th>\n",
       "      <td>입생로랑 루쥬 볼륍떼 캔디 글레이즈 3.2g</td>\n",
       "      <td>34190</td>\n",
       "      <td>색상 : 레드,버건디,핑크,코랄주요제품특징 : 지속력세부제품특징 : 촉촉함(수분공급...</td>\n",
       "      <td>250</td>\n",
       "      <td>0</td>\n",
       "      <td>1</td>\n",
       "    </tr>\n",
       "    <tr>\n",
       "      <th>...</th>\n",
       "      <td>...</td>\n",
       "      <td>...</td>\n",
       "      <td>...</td>\n",
       "      <td>...</td>\n",
       "      <td>...</td>\n",
       "      <td>...</td>\n",
       "    </tr>\n",
       "    <tr>\n",
       "      <th>544</th>\n",
       "      <td>데이지크 워터 블러 틴트 4.5g, 02 저스트 피치, 1개</td>\n",
       "      <td>13000</td>\n",
       "      <td>피부타입 : 모든피부용색상 : 핑크,코랄,피치주요제품특징 : 지속력,부드러운 발림세...</td>\n",
       "      <td>0</td>\n",
       "      <td>0</td>\n",
       "      <td>1</td>\n",
       "    </tr>\n",
       "    <tr>\n",
       "      <th>550</th>\n",
       "      <td>컬러그램톡 썬더볼 틴트 라커  1개  01 로맨스톡</td>\n",
       "      <td>19240</td>\n",
       "      <td>피부타입 : 모든피부용주요제품특징 : 지속력,고발색,부드러운 발림세부제품특징 : 매...</td>\n",
       "      <td>0</td>\n",
       "      <td>1</td>\n",
       "      <td>0</td>\n",
       "    </tr>\n",
       "    <tr>\n",
       "      <th>551</th>\n",
       "      <td>릴리바이레드 릴리바이레드 스마일리 립 블렌딩 스틱+픽싱틴트 세트  01 싱긋싱긋(L...</td>\n",
       "      <td>20600</td>\n",
       "      <td>피부타입 : 모든피부용색상 : 레드,핑크,베이지연출효과 : 매트주요제품특징 : 지속...</td>\n",
       "      <td>0</td>\n",
       "      <td>1</td>\n",
       "      <td>0</td>\n",
       "    </tr>\n",
       "    <tr>\n",
       "      <th>552</th>\n",
       "      <td>네일아트 투명 말랑 말캉 시럽 틴트 팁 24p 5종 Y37519</td>\n",
       "      <td>6500</td>\n",
       "      <td>피부타입 : 모든피부용색상 : 레드,핑크,코랄,오렌지,베이지,브라운웜톤 : 웜톤쿨톤...</td>\n",
       "      <td>0</td>\n",
       "      <td>1</td>\n",
       "      <td>0</td>\n",
       "    </tr>\n",
       "    <tr>\n",
       "      <th>553</th>\n",
       "      <td>해외클라란스 립 워터 넘버 02 오렌지 워터 7ml</td>\n",
       "      <td>31060</td>\n",
       "      <td>피부타입 : 모든피부용주요제품특징 : 고발색세부제품특징 : 촉촉함(수분공급)제품형태...</td>\n",
       "      <td>1</td>\n",
       "      <td>0</td>\n",
       "      <td>1</td>\n",
       "    </tr>\n",
       "  </tbody>\n",
       "</table>\n",
       "<p>592 rows × 6 columns</p>\n",
       "</div>\n",
       "      <button class=\"colab-df-convert\" onclick=\"convertToInteractive('df-c0515c7c-619f-48ae-ab46-2e1d6565a6ed')\"\n",
       "              title=\"Convert this dataframe to an interactive table.\"\n",
       "              style=\"display:none;\">\n",
       "        \n",
       "  <svg xmlns=\"http://www.w3.org/2000/svg\" height=\"24px\"viewBox=\"0 0 24 24\"\n",
       "       width=\"24px\">\n",
       "    <path d=\"M0 0h24v24H0V0z\" fill=\"none\"/>\n",
       "    <path d=\"M18.56 5.44l.94 2.06.94-2.06 2.06-.94-2.06-.94-.94-2.06-.94 2.06-2.06.94zm-11 1L8.5 8.5l.94-2.06 2.06-.94-2.06-.94L8.5 2.5l-.94 2.06-2.06.94zm10 10l.94 2.06.94-2.06 2.06-.94-2.06-.94-.94-2.06-.94 2.06-2.06.94z\"/><path d=\"M17.41 7.96l-1.37-1.37c-.4-.4-.92-.59-1.43-.59-.52 0-1.04.2-1.43.59L10.3 9.45l-7.72 7.72c-.78.78-.78 2.05 0 2.83L4 21.41c.39.39.9.59 1.41.59.51 0 1.02-.2 1.41-.59l7.78-7.78 2.81-2.81c.8-.78.8-2.07 0-2.86zM5.41 20L4 18.59l7.72-7.72 1.47 1.35L5.41 20z\"/>\n",
       "  </svg>\n",
       "      </button>\n",
       "      \n",
       "  <style>\n",
       "    .colab-df-container {\n",
       "      display:flex;\n",
       "      flex-wrap:wrap;\n",
       "      gap: 12px;\n",
       "    }\n",
       "\n",
       "    .colab-df-convert {\n",
       "      background-color: #E8F0FE;\n",
       "      border: none;\n",
       "      border-radius: 50%;\n",
       "      cursor: pointer;\n",
       "      display: none;\n",
       "      fill: #1967D2;\n",
       "      height: 32px;\n",
       "      padding: 0 0 0 0;\n",
       "      width: 32px;\n",
       "    }\n",
       "\n",
       "    .colab-df-convert:hover {\n",
       "      background-color: #E2EBFA;\n",
       "      box-shadow: 0px 1px 2px rgba(60, 64, 67, 0.3), 0px 1px 3px 1px rgba(60, 64, 67, 0.15);\n",
       "      fill: #174EA6;\n",
       "    }\n",
       "\n",
       "    [theme=dark] .colab-df-convert {\n",
       "      background-color: #3B4455;\n",
       "      fill: #D2E3FC;\n",
       "    }\n",
       "\n",
       "    [theme=dark] .colab-df-convert:hover {\n",
       "      background-color: #434B5C;\n",
       "      box-shadow: 0px 1px 3px 1px rgba(0, 0, 0, 0.15);\n",
       "      filter: drop-shadow(0px 1px 2px rgba(0, 0, 0, 0.3));\n",
       "      fill: #FFFFFF;\n",
       "    }\n",
       "  </style>\n",
       "\n",
       "      <script>\n",
       "        const buttonEl =\n",
       "          document.querySelector('#df-c0515c7c-619f-48ae-ab46-2e1d6565a6ed button.colab-df-convert');\n",
       "        buttonEl.style.display =\n",
       "          google.colab.kernel.accessAllowed ? 'block' : 'none';\n",
       "\n",
       "        async function convertToInteractive(key) {\n",
       "          const element = document.querySelector('#df-c0515c7c-619f-48ae-ab46-2e1d6565a6ed');\n",
       "          const dataTable =\n",
       "            await google.colab.kernel.invokeFunction('convertToInteractive',\n",
       "                                                     [key], {});\n",
       "          if (!dataTable) return;\n",
       "\n",
       "          const docLinkHtml = 'Like what you see? Visit the ' +\n",
       "            '<a target=\"_blank\" href=https://colab.research.google.com/notebooks/data_table.ipynb>data table notebook</a>'\n",
       "            + ' to learn more about interactive tables.';\n",
       "          element.innerHTML = '';\n",
       "          dataTable['output_type'] = 'display_data';\n",
       "          await google.colab.output.renderOutput(dataTable, element);\n",
       "          const docLink = document.createElement('div');\n",
       "          docLink.innerHTML = docLinkHtml;\n",
       "          element.appendChild(docLink);\n",
       "        }\n",
       "      </script>\n",
       "    </div>\n",
       "  </div>\n",
       "  "
      ],
      "text/plain": [
       "                                                 Title  Price  \\\n",
       "0                                     3CE 블러 매트 립스틱 4g  19800   \n",
       "1                              각질 부담없이 매트한 엔드루즈 코벳 립스틱  17000   \n",
       "3                                      맥 파우더 키스 립스틱 3g  18380   \n",
       "4                                             맥 립스틱 3g  19890   \n",
       "5                             입생로랑 루쥬 볼륍떼 캔디 글레이즈 3.2g  34190   \n",
       "..                                                 ...    ...   \n",
       "544                  데이지크 워터 블러 틴트 4.5g, 02 저스트 피치, 1개  13000   \n",
       "550                       컬러그램톡 썬더볼 틴트 라커  1개  01 로맨스톡  19240   \n",
       "551  릴리바이레드 릴리바이레드 스마일리 립 블렌딩 스틱+픽싱틴트 세트  01 싱긋싱긋(L...  20600   \n",
       "552                네일아트 투명 말랑 말캉 시럽 틴트 팁 24p 5종 Y37519   6500   \n",
       "553                       해외클라란스 립 워터 넘버 02 오렌지 워터 7ml  31060   \n",
       "\n",
       "                                                Detail  Text  matte  moist  \n",
       "0    피부타입 : 모든피부용색상 : 레드,핑크,코랄,베이지웜톤 : 웜톤쿨톤 : 쿨톤주요제...   454      1      0  \n",
       "1    색상 : 레드,코랄주요제품특징 : 고발색,부드러운 발림세부제품특징 : 촉촉함(수분공...    26      0      1  \n",
       "3    피부타입 : 모든피부용색상 : 레드,핑크,피치연출효과 : 매트주요제품특징 : 부드러...   297      1      1  \n",
       "4    피부타입 : 모든피부용색상 : 레드,핑크,코랄,오렌지,브라운,멀티플연출효과 : 매트...   249      1      0  \n",
       "5    색상 : 레드,버건디,핑크,코랄주요제품특징 : 지속력세부제품특징 : 촉촉함(수분공급...   250      0      1  \n",
       "..                                                 ...   ...    ...    ...  \n",
       "544  피부타입 : 모든피부용색상 : 핑크,코랄,피치주요제품특징 : 지속력,부드러운 발림세...     0      0      1  \n",
       "550  피부타입 : 모든피부용주요제품특징 : 지속력,고발색,부드러운 발림세부제품특징 : 매...     0      1      0  \n",
       "551  피부타입 : 모든피부용색상 : 레드,핑크,베이지연출효과 : 매트주요제품특징 : 지속...     0      1      0  \n",
       "552  피부타입 : 모든피부용색상 : 레드,핑크,코랄,오렌지,베이지,브라운웜톤 : 웜톤쿨톤...     0      1      0  \n",
       "553  피부타입 : 모든피부용주요제품특징 : 고발색세부제품특징 : 촉촉함(수분공급)제품형태...     1      0      1  \n",
       "\n",
       "[592 rows x 6 columns]"
      ]
     },
     "execution_count": 29,
     "metadata": {},
     "output_type": "execute_result"
    }
   ],
   "source": [
    "df"
   ]
  },
  {
   "cell_type": "markdown",
   "metadata": {
    "id": "mhJ6TRZpZLA8"
   },
   "source": [
    "## 이상치 제거 x"
   ]
  },
  {
   "cell_type": "code",
   "execution_count": null,
   "metadata": {
    "colab": {
     "base_uri": "https://localhost:8080/"
    },
    "id": "NVK48BFc4UO1",
    "outputId": "997d23a3-b780-40ef-c896-dfe332dee3b5"
   },
   "outputs": [
    {
     "name": "stdout",
     "output_type": "stream",
     "text": [
      "                            OLS Regression Results                            \n",
      "==============================================================================\n",
      "Dep. Variable:                   Text   R-squared:                       0.005\n",
      "Model:                            OLS   Adj. R-squared:                 -0.001\n",
      "Method:                 Least Squares   F-statistic:                    0.8906\n",
      "Date:                Thu, 18 May 2023   Prob (F-statistic):              0.446\n",
      "Time:                        11:09:25   Log-Likelihood:                -4008.6\n",
      "No. Observations:                 592   AIC:                             8025.\n",
      "Df Residuals:                     588   BIC:                             8043.\n",
      "Df Model:                           3                                         \n",
      "Covariance Type:            nonrobust                                         \n",
      "==============================================================================\n",
      "                 coef    std err          t      P>|t|      [0.025      0.975]\n",
      "------------------------------------------------------------------------------\n",
      "const         65.2421     31.317      2.083      0.038       3.736     126.748\n",
      "Price         -0.0005      0.000     -1.221      0.223      -0.001       0.000\n",
      "matte         24.4026     23.736      1.028      0.304     -22.215      71.020\n",
      "moist         26.0451     27.581      0.944      0.345     -28.124      80.214\n",
      "==============================================================================\n",
      "Omnibus:                      701.573   Durbin-Watson:                   1.770\n",
      "Prob(Omnibus):                  0.000   Jarque-Bera (JB):            53284.630\n",
      "Skew:                           5.790   Prob(JB):                         0.00\n",
      "Kurtosis:                      48.012   Cond. No.                     1.53e+05\n",
      "==============================================================================\n",
      "\n",
      "Notes:\n",
      "[1] Standard Errors assume that the covariance matrix of the errors is correctly specified.\n",
      "[2] The condition number is large, 1.53e+05. This might indicate that there are\n",
      "strong multicollinearity or other numerical problems.\n"
     ]
    }
   ],
   "source": [
    "import statsmodels.api as sm\n",
    "\n",
    "X = df[['Price', 'matte', 'moist']]\n",
    "y = df['Text']\n",
    "\n",
    "# 상수(intercept) 추가\n",
    "X = sm.add_constant(X)\n",
    "\n",
    "# 다중회귀분석 모델 학습\n",
    "model = sm.OLS(y, X).fit()\n",
    "\n",
    "# 회귀분석 결과 출력\n",
    "print(model.summary())"
   ]
  },
  {
   "cell_type": "markdown",
   "metadata": {
    "id": "EM0Vd0zGZY2O"
   },
   "source": [
    "## IQR 기준으로 이상치 제거"
   ]
  },
  {
   "cell_type": "code",
   "execution_count": null,
   "metadata": {
    "id": "n7n2HdtAZYLM"
   },
   "outputs": [],
   "source": [
    "# IQR 계산\n",
    "Q1 = df['Price'].quantile(0.25)\n",
    "Q3 = df['Price'].quantile(0.75)\n",
    "IQR = Q3 - Q1\n",
    "\n",
    "# 이상치 제거\n",
    "lower_bound = Q1 - 1.5 * IQR\n",
    "upper_bound = Q3 + 1.5 * IQR\n",
    "df = df[(df['Price'] >= lower_bound) & (df['Price'] <= upper_bound)]"
   ]
  },
  {
   "cell_type": "code",
   "execution_count": null,
   "metadata": {
    "id": "x4hcx-WA5YQR"
   },
   "outputs": [],
   "source": [
    "# IQR 계산\n",
    "Q1 = df['Text'].quantile(0.25)\n",
    "Q3 = df['Text'].quantile(0.75)\n",
    "IQR = Q3 - Q1\n",
    "\n",
    "# 이상치 제거\n",
    "lower_bound = Q1 - 1.5 * IQR\n",
    "upper_bound = Q3 + 1.5 * IQR\n",
    "df = df[(df['Text'] >= lower_bound) & (df['Text'] <= upper_bound)]"
   ]
  },
  {
   "cell_type": "code",
   "execution_count": null,
   "metadata": {
    "colab": {
     "base_uri": "https://localhost:8080/"
    },
    "id": "uI0OtCj-aDIu",
    "outputId": "91bae23a-77e1-4ed4-e5a6-e28bfff29050"
   },
   "outputs": [
    {
     "name": "stdout",
     "output_type": "stream",
     "text": [
      "                            OLS Regression Results                            \n",
      "==============================================================================\n",
      "Dep. Variable:                   Text   R-squared:                       0.001\n",
      "Model:                            OLS   Adj. R-squared:                 -0.005\n",
      "Method:                 Least Squares   F-statistic:                    0.1631\n",
      "Date:                Thu, 18 May 2023   Prob (F-statistic):              0.921\n",
      "Time:                        11:09:29   Log-Likelihood:                -2547.8\n",
      "No. Observations:                 495   AIC:                             5104.\n",
      "Df Residuals:                     491   BIC:                             5121.\n",
      "Df Model:                           3                                         \n",
      "Covariance Type:            nonrobust                                         \n",
      "==============================================================================\n",
      "                 coef    std err          t      P>|t|      [0.025      0.975]\n",
      "------------------------------------------------------------------------------\n",
      "const         26.7358      7.143      3.743      0.000      12.702      40.770\n",
      "Price       1.129e-05      0.000      0.075      0.940      -0.000       0.000\n",
      "matte          1.5851      5.197      0.305      0.760      -8.626      11.796\n",
      "moist          4.0012      5.989      0.668      0.504      -7.766      15.768\n",
      "==============================================================================\n",
      "Omnibus:                      143.297   Durbin-Watson:                   1.584\n",
      "Prob(Omnibus):                  0.000   Jarque-Bera (JB):              288.464\n",
      "Skew:                           1.621   Prob(JB):                     2.30e-63\n",
      "Kurtosis:                       4.865   Cond. No.                     1.18e+05\n",
      "==============================================================================\n",
      "\n",
      "Notes:\n",
      "[1] Standard Errors assume that the covariance matrix of the errors is correctly specified.\n",
      "[2] The condition number is large, 1.18e+05. This might indicate that there are\n",
      "strong multicollinearity or other numerical problems.\n"
     ]
    }
   ],
   "source": [
    "import statsmodels.api as sm\n",
    "\n",
    "X = df[['Price', 'matte', 'moist']]\n",
    "y = df['Text']\n",
    "\n",
    "# 상수(intercept) 추가\n",
    "X = sm.add_constant(X)\n",
    "\n",
    "# 다중회귀분석 모델 학습\n",
    "model = sm.OLS(y, X).fit()\n",
    "\n",
    "# 회귀분석 결과 출력\n",
    "print(model.summary())"
   ]
  }
 ],
 "metadata": {
  "colab": {
   "collapsed_sections": [
    "WdTSPZhL2qWJ"
   ],
   "provenance": []
  },
  "kernelspec": {
   "display_name": "Python 3 (ipykernel)",
   "language": "python",
   "name": "python3"
  },
  "language_info": {
   "codemirror_mode": {
    "name": "ipython",
    "version": 3
   },
   "file_extension": ".py",
   "mimetype": "text/x-python",
   "name": "python",
   "nbconvert_exporter": "python",
   "pygments_lexer": "ipython3",
   "version": "3.10.9"
  }
 },
 "nbformat": 4,
 "nbformat_minor": 1
}
